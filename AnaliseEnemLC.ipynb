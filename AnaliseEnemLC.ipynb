{
 "cells": [
  {
   "cell_type": "markdown",
   "metadata": {
    "id": "mKvFbmPD8Mrd"
   },
   "source": [
    "# Configurações Básicas e Importando Bibliotecas"
   ]
  },
  {
   "cell_type": "code",
   "execution_count": 66,
   "metadata": {
    "executionInfo": {
     "elapsed": 5833,
     "status": "ok",
     "timestamp": 1743872174435,
     "user": {
      "displayName": "Caio Bruno",
      "userId": "16606825078430534520"
     },
     "user_tz": 180
    },
    "id": "hiHgDGRZ8Mrl"
   },
   "outputs": [],
   "source": [
    "import pandas as pd\n",
    "import numpy as np\n",
    "import seaborn as sns\n",
    "from matplotlib import pyplot as plt"
   ]
  },
  {
   "cell_type": "code",
   "execution_count": 67,
   "metadata": {
    "executionInfo": {
     "elapsed": 5727,
     "status": "ok",
     "timestamp": 1743872203675,
     "user": {
      "displayName": "Caio Bruno",
      "userId": "16606825078430534520"
     },
     "user_tz": 180
    },
    "id": "OWLeaHLn8Mro"
   },
   "outputs": [],
   "source": [
    "dfMG = pd.read_csv(\"./Data/DadosMG/DadosPT_MG.csv\", sep=\";\", encoding=\"utf-8\")\n",
    "dfDiam = pd.read_csv(\"./Data/Diamantina/DadosPT_Diam.csv\", sep=\";\", encoding=\"utf-8\")\n",
    "dfJan = pd.read_csv(\"./Data/Janauba/DadosPT_Janauba.csv\", sep=\";\", encoding=\"utf-8\")\n",
    "dfTO = pd.read_csv(\"./Data/Teofilo Otoni/DadosPT_TO.csv\", sep=\";\", encoding=\"utf-8\")\n",
    "dfUnai = pd.read_csv(\"./Data/Unai/DadosPT_Unai.csv\", sep=\";\", encoding=\"utf-8\")"
   ]
  },
  {
   "cell_type": "markdown",
   "metadata": {
    "id": "j7yPH_4z8Mrq"
   },
   "source": [
    "# Analisando Demografia dos Candidatos"
   ]
  },
  {
   "cell_type": "markdown",
   "metadata": {
    "id": "xvoHc2yQ8Mrr"
   },
   "source": [
    "## Minas Gerais"
   ]
  },
  {
   "cell_type": "code",
   "execution_count": 68,
   "metadata": {
    "colab": {
     "base_uri": "https://localhost:8080/"
    },
    "executionInfo": {
     "elapsed": 57,
     "status": "ok",
     "timestamp": 1743872203734,
     "user": {
      "displayName": "Caio Bruno",
      "userId": "16606825078430534520"
     },
     "user_tz": 180
    },
    "id": "5iDCvdJP8Mrs",
    "outputId": "273d80cb-5072-4ba4-bacf-89bec1ca5f0e"
   },
   "outputs": [
    {
     "name": "stdout",
     "output_type": "stream",
     "text": [
      "Total de Candidatos Completistas Português MG (sem nota 0): \n"
     ]
    },
    {
     "data": {
      "text/plain": [
       "88331"
      ]
     },
     "execution_count": 68,
     "metadata": {},
     "output_type": "execute_result"
    }
   ],
   "source": [
    "print(\"Total de Candidatos Completistas Português MG (sem nota 0): \")\n",
    "dfMG[\"NU_NOTA_LC\"].count()"
   ]
  },
  {
   "cell_type": "markdown",
   "metadata": {
    "id": "U-KpABi68Mru"
   },
   "source": [
    "### Cor"
   ]
  },
  {
   "cell_type": "code",
   "execution_count": 69,
   "metadata": {
    "executionInfo": {
     "elapsed": 24,
     "status": "ok",
     "timestamp": 1743872203761,
     "user": {
      "displayName": "Caio Bruno",
      "userId": "16606825078430534520"
     },
     "user_tz": 180
    },
    "id": "MoPYdQEq8Mrv"
   },
   "outputs": [],
   "source": [
    "cores = ['Não declarado', 'Branca', 'Preta', 'Parda', 'Amarela', 'Indígena', 'Não dispõe']\n",
    "\n",
    "def converterCor(num):\n",
    "    return cores[num]\n",
    "\n",
    "dfMG['TP_COR_RACA'] = dfMG['TP_COR_RACA'].map(converterCor)"
   ]
  },
  {
   "cell_type": "code",
   "execution_count": 70,
   "metadata": {
    "colab": {
     "base_uri": "https://localhost:8080/",
     "height": 304
    },
    "executionInfo": {
     "elapsed": 51,
     "status": "ok",
     "timestamp": 1743872203836,
     "user": {
      "displayName": "Caio Bruno",
      "userId": "16606825078430534520"
     },
     "user_tz": 180
    },
    "id": "SEdRIEy78Mrw",
    "outputId": "aa5cf25e-982f-4376-88d1-dee6e233d737"
   },
   "outputs": [
    {
     "data": {
      "text/plain": [
       "TP_COR_RACA\n",
       "Branca           0.459643\n",
       "Parda            0.391346\n",
       "Preta            0.125298\n",
       "Amarela          0.011358\n",
       "Não declarado    0.009540\n",
       "Indígena         0.002814\n",
       "Name: proportion, dtype: float64"
      ]
     },
     "execution_count": 70,
     "metadata": {},
     "output_type": "execute_result"
    }
   ],
   "source": [
    "dfMG[\"TP_COR_RACA\"].value_counts(normalize=True)"
   ]
  },
  {
   "cell_type": "markdown",
   "metadata": {
    "id": "lr_oomak8Mry"
   },
   "source": [
    "### Sexo"
   ]
  },
  {
   "cell_type": "code",
   "execution_count": 71,
   "metadata": {
    "colab": {
     "base_uri": "https://localhost:8080/",
     "height": 178
    },
    "executionInfo": {
     "elapsed": 8,
     "status": "ok",
     "timestamp": 1743872203848,
     "user": {
      "displayName": "Caio Bruno",
      "userId": "16606825078430534520"
     },
     "user_tz": 180
    },
    "id": "lAzf-qoc8Mry",
    "outputId": "026b9c94-5dae-4aed-ce0a-400f31249860"
   },
   "outputs": [
    {
     "data": {
      "text/plain": [
       "TP_SEXO\n",
       "F    0.608873\n",
       "M    0.391127\n",
       "Name: proportion, dtype: float64"
      ]
     },
     "execution_count": 71,
     "metadata": {},
     "output_type": "execute_result"
    }
   ],
   "source": [
    "dfMG[\"TP_SEXO\"].value_counts(normalize=True)"
   ]
  },
  {
   "cell_type": "markdown",
   "metadata": {
    "id": "Btxf63f28Mrz"
   },
   "source": [
    "### Dependência Administrativa"
   ]
  },
  {
   "cell_type": "code",
   "execution_count": 72,
   "metadata": {
    "executionInfo": {
     "elapsed": 47,
     "status": "ok",
     "timestamp": 1743872203969,
     "user": {
      "displayName": "Caio Bruno",
      "userId": "16606825078430534520"
     },
     "user_tz": 180
    },
    "id": "GKJkVwbQ8Mr0"
   },
   "outputs": [],
   "source": [
    "deps_admins = [\" \",\"Federal\", \"Estadual\", \"Municipal\", \"Privada\"]\n",
    "\n",
    "def converterDepAdmin(num):\n",
    "    return deps_admins[int(num)]\n",
    "\n",
    "dfMG['TP_DEPENDENCIA_ADM_ESC'] = dfMG['TP_DEPENDENCIA_ADM_ESC'].map(converterDepAdmin, na_action=\"ignore\")"
   ]
  },
  {
   "cell_type": "code",
   "execution_count": 73,
   "metadata": {
    "colab": {
     "base_uri": "https://localhost:8080/",
     "height": 241
    },
    "executionInfo": {
     "elapsed": 15,
     "status": "ok",
     "timestamp": 1743872203973,
     "user": {
      "displayName": "Caio Bruno",
      "userId": "16606825078430534520"
     },
     "user_tz": 180
    },
    "id": "nOEmp2eQ8Mr1",
    "outputId": "b4252d6d-06e3-40fd-99e6-062149364556"
   },
   "outputs": [
    {
     "data": {
      "text/plain": [
       "TP_DEPENDENCIA_ADM_ESC\n",
       "Estadual     0.614542\n",
       "Privada      0.285776\n",
       "Federal      0.090333\n",
       "Municipal    0.009349\n",
       "Name: proportion, dtype: float64"
      ]
     },
     "execution_count": 73,
     "metadata": {},
     "output_type": "execute_result"
    }
   ],
   "source": [
    "dfMG[\"TP_DEPENDENCIA_ADM_ESC\"].value_counts(normalize=True)"
   ]
  },
  {
   "cell_type": "markdown",
   "metadata": {
    "id": "vbYvtQsx8Mr2"
   },
   "source": [
    "### Escolaridade da Mãe"
   ]
  },
  {
   "cell_type": "code",
   "execution_count": 74,
   "metadata": {
    "executionInfo": {
     "elapsed": 53,
     "status": "ok",
     "timestamp": 1743872204021,
     "user": {
      "displayName": "Caio Bruno",
      "userId": "16606825078430534520"
     },
     "user_tz": 180
    },
    "id": "r5EKgLbz8Mr2"
   },
   "outputs": [],
   "source": [
    "escolaridades = [\"Nunca estudou\",\n",
    "\"Não completou a 4ª série/5º ano do Ensino Fundamental\",\n",
    "\"Completou a 4ª série/5º ano, mas não completou a 8ª série/9º ano do Ensino Fundamental\",\n",
    "\"Completou a 8ª série/9º ano do Ensino Fundamental, mas não completou o Ensino Médio\",\n",
    "\"Completou o Ensino Médio, mas não completou a Faculdade\",\n",
    "\"Completou a Faculdade, mas não completou a Pós-graduação\",\n",
    "\"Completou a Pós-graduação\",\n",
    "\"Não sei\"]\n",
    "\n",
    "def convEscString(letra):\n",
    "    letras = [\"A\",\"B\",\"C\",\"D\",\"E\",\"F\",\"G\",\"H\"]\n",
    "    indice = letras.index(letra)\n",
    "    return escolaridades[indice]\n",
    "\n",
    "dfMG[\"Q002\"] = dfMG[\"Q002\"].apply(convEscString)"
   ]
  },
  {
   "cell_type": "code",
   "execution_count": 75,
   "metadata": {
    "colab": {
     "base_uri": "https://localhost:8080/",
     "height": 366
    },
    "executionInfo": {
     "elapsed": 13,
     "status": "ok",
     "timestamp": 1743872204038,
     "user": {
      "displayName": "Caio Bruno",
      "userId": "16606825078430534520"
     },
     "user_tz": 180
    },
    "id": "n6WF3-h48Mr3",
    "outputId": "dec675eb-833a-4bbb-d4a1-08e740aa828d"
   },
   "outputs": [
    {
     "data": {
      "text/plain": [
       "Q002\n",
       "Completou o Ensino Médio, mas não completou a Faculdade                                   0.365806\n",
       "Completou a Pós-graduação                                                                 0.133778\n",
       "Completou a 8ª série/9º ano do Ensino Fundamental, mas não completou o Ensino Médio       0.127573\n",
       "Completou a Faculdade, mas não completou a Pós-graduação                                  0.123635\n",
       "Completou a 4ª série/5º ano, mas não completou a 8ª série/9º ano do Ensino Fundamental    0.112871\n",
       "Não completou a 4ª série/5º ano do Ensino Fundamental                                     0.090099\n",
       "Não sei                                                                                   0.036131\n",
       "Nunca estudou                                                                             0.010106\n",
       "Name: proportion, dtype: float64"
      ]
     },
     "execution_count": 75,
     "metadata": {},
     "output_type": "execute_result"
    }
   ],
   "source": [
    "dfMG[\"Q002\"].value_counts(normalize=True)"
   ]
  },
  {
   "cell_type": "markdown",
   "metadata": {
    "id": "wAG3MNo2BDlS"
   },
   "source": [
    "### Renda"
   ]
  },
  {
   "cell_type": "code",
   "execution_count": 76,
   "metadata": {
    "executionInfo": {
     "elapsed": 5,
     "status": "ok",
     "timestamp": 1743872204041,
     "user": {
      "displayName": "Caio Bruno",
      "userId": "16606825078430534520"
     },
     "user_tz": 180
    },
    "id": "REmsQV9VBQ4t"
   },
   "outputs": [],
   "source": [
    "rendas = [\"Nenhuma Renda\",\n",
    "\"Até R$ 1.320,00\",\n",
    "\"De R$ 1.320,01 até R$ 1.980,00.\",\n",
    "\"De R$ 1.980,01 até R$ 2.640,00.\",\n",
    "\"De R$ 2.640,01 até R$ 3.300,00.\",\n",
    "\"De R$ 3.300,01 até R$ 3.960,00.\",\n",
    "\"De R$ 3.960,01 até R$ 5.280,00.\",\n",
    "\"De R$ 5.280,01 até R$ 6.600,00.\",\n",
    "\"De R$ 6.600,01 até R$ 7.920,00.\",\n",
    "\"De R$ 7.920,01 até R$ 9240,00.\",\n",
    "\"De R$ 9.240,01 até R$ 10.560,00.\",\n",
    "\"De R$ 10.560,01 até R$ 11.880,00.\",\n",
    "\"De R$ 11.880,01 até R$ 13.200,00.\",\n",
    "\"De R$ 13.200,01 até R$ 15.840,00.\",\n",
    "\"De R$ 15.840,01 até R$19.800,00.\",\n",
    "\"De R$ 19.800,01 até R$ 26.400,00.\",\n",
    "\"Acima de R$ 26.400,00.\"]\n",
    "\n",
    "def convRenda(letra):\n",
    "    letras = [\"A\",\"B\",\"C\",\"D\",\"E\",\"F\",\"G\",\"H\",\"I\",\"J\",\"K\",\"L\",\"M\",\"N\",\"O\",\"P\",\"Q\"]\n",
    "    indice = letras.index(letra)\n",
    "    return rendas[indice]\n",
    "\n",
    "dfMG[\"Q006\"] = dfMG[\"Q006\"].apply(convRenda)"
   ]
  },
  {
   "cell_type": "code",
   "execution_count": 77,
   "metadata": {
    "colab": {
     "base_uri": "https://localhost:8080/",
     "height": 649
    },
    "executionInfo": {
     "elapsed": 30,
     "status": "ok",
     "timestamp": 1743872204123,
     "user": {
      "displayName": "Caio Bruno",
      "userId": "16606825078430534520"
     },
     "user_tz": 180
    },
    "id": "GubpOuG1BI2Q",
    "outputId": "e09c9bad-df30-4015-b7e7-1c33f1536b84"
   },
   "outputs": [
    {
     "data": {
      "text/plain": [
       "Q006\n",
       "Até R$ 1.320,00                      0.237666\n",
       "De R$ 1.320,01 até R$ 1.980,00.      0.178170\n",
       "De R$ 1.980,01 até R$ 2.640,00.      0.139142\n",
       "De R$ 2.640,01 até R$ 3.300,00.      0.098479\n",
       "De R$ 3.960,01 até R$ 5.280,00.      0.081053\n",
       "De R$ 3.300,01 até R$ 3.960,00.      0.057340\n",
       "De R$ 5.280,01 até R$ 6.600,00.      0.041988\n",
       "Nenhuma Renda                        0.030986\n",
       "De R$ 6.600,01 até R$ 7.920,00.      0.025979\n",
       "De R$ 7.920,01 até R$ 9240,00.       0.021867\n",
       "De R$ 9.240,01 até R$ 10.560,00.     0.017481\n",
       "Acima de R$ 26.400,00.               0.014611\n",
       "De R$ 15.840,01 até R$19.800,00.     0.011742\n",
       "De R$ 13.200,01 até R$ 15.840,00.    0.011651\n",
       "De R$ 10.560,01 até R$ 11.880,00.    0.011632\n",
       "De R$ 19.800,01 até R$ 26.400,00.    0.010810\n",
       "De R$ 11.880,01 até R$ 13.200,00.    0.009403\n",
       "Name: proportion, dtype: float64"
      ]
     },
     "execution_count": 77,
     "metadata": {},
     "output_type": "execute_result"
    }
   ],
   "source": [
    "dfMG[\"Q006\"].value_counts(normalize=True)"
   ]
  },
  {
   "cell_type": "markdown",
   "metadata": {
    "id": "ptLw3db28Mr4"
   },
   "source": [
    "## Diamantina"
   ]
  },
  {
   "cell_type": "code",
   "execution_count": 78,
   "metadata": {
    "colab": {
     "base_uri": "https://localhost:8080/"
    },
    "executionInfo": {
     "elapsed": 17,
     "status": "ok",
     "timestamp": 1743872204138,
     "user": {
      "displayName": "Caio Bruno",
      "userId": "16606825078430534520"
     },
     "user_tz": 180
    },
    "id": "-NXiYcm68Mr4",
    "outputId": "288924e8-3e1a-4b3a-fa0e-49e203670526"
   },
   "outputs": [
    {
     "name": "stdout",
     "output_type": "stream",
     "text": [
      "Total de Candidatos Completistas Português Diamantina (sem nota 0): \n"
     ]
    },
    {
     "data": {
      "text/plain": [
       "572"
      ]
     },
     "execution_count": 78,
     "metadata": {},
     "output_type": "execute_result"
    }
   ],
   "source": [
    "print(\"Total de Candidatos Completistas Português Diamantina (sem nota 0): \")\n",
    "dfDiam[\"NU_NOTA_LC\"].count()"
   ]
  },
  {
   "cell_type": "markdown",
   "metadata": {
    "id": "iddDFIHF8Mr5"
   },
   "source": [
    "### Cor"
   ]
  },
  {
   "cell_type": "code",
   "execution_count": 79,
   "metadata": {
    "executionInfo": {
     "elapsed": 5,
     "status": "ok",
     "timestamp": 1743872204144,
     "user": {
      "displayName": "Caio Bruno",
      "userId": "16606825078430534520"
     },
     "user_tz": 180
    },
    "id": "cagAeNlb8Mr6"
   },
   "outputs": [],
   "source": [
    "cores = ['Não declarado', 'Branca', 'Preta', 'Parda', 'Amarela', 'Indígena', 'Não dispõe']\n",
    "\n",
    "def converterCor(num):\n",
    "    return cores[num]\n",
    "\n",
    "dfDiam['TP_COR_RACA'] = dfDiam['TP_COR_RACA'].map(converterCor)"
   ]
  },
  {
   "cell_type": "code",
   "execution_count": 80,
   "metadata": {
    "colab": {
     "base_uri": "https://localhost:8080/",
     "height": 304
    },
    "executionInfo": {
     "elapsed": 9,
     "status": "ok",
     "timestamp": 1743872204157,
     "user": {
      "displayName": "Caio Bruno",
      "userId": "16606825078430534520"
     },
     "user_tz": 180
    },
    "id": "dS05tpNK8Mr7",
    "outputId": "9353796b-fb5d-4fa5-ffb4-7216fc4d90f7"
   },
   "outputs": [
    {
     "data": {
      "text/plain": [
       "TP_COR_RACA\n",
       "Parda            0.543027\n",
       "Branca           0.249258\n",
       "Preta            0.183976\n",
       "Amarela          0.014837\n",
       "Não declarado    0.007418\n",
       "Indígena         0.001484\n",
       "Name: proportion, dtype: float64"
      ]
     },
     "execution_count": 80,
     "metadata": {},
     "output_type": "execute_result"
    }
   ],
   "source": [
    "dfDiam[\"TP_COR_RACA\"].value_counts(normalize=True)"
   ]
  },
  {
   "cell_type": "markdown",
   "metadata": {
    "id": "kAysYz1G8Mr8"
   },
   "source": [
    "### Sexo"
   ]
  },
  {
   "cell_type": "code",
   "execution_count": 81,
   "metadata": {
    "colab": {
     "base_uri": "https://localhost:8080/",
     "height": 178
    },
    "executionInfo": {
     "elapsed": 13,
     "status": "ok",
     "timestamp": 1743872204215,
     "user": {
      "displayName": "Caio Bruno",
      "userId": "16606825078430534520"
     },
     "user_tz": 180
    },
    "id": "xwFti5hB8Mr8",
    "outputId": "3481bafd-bec5-4c8a-87f7-0b0e165dceed"
   },
   "outputs": [
    {
     "data": {
      "text/plain": [
       "TP_SEXO\n",
       "F    0.626113\n",
       "M    0.373887\n",
       "Name: proportion, dtype: float64"
      ]
     },
     "execution_count": 81,
     "metadata": {},
     "output_type": "execute_result"
    }
   ],
   "source": [
    "dfDiam[\"TP_SEXO\"].value_counts(normalize=True)"
   ]
  },
  {
   "cell_type": "markdown",
   "metadata": {
    "id": "Q-XvJI1r8Mr9"
   },
   "source": [
    "### Dependência Administrativa"
   ]
  },
  {
   "cell_type": "code",
   "execution_count": 82,
   "metadata": {
    "executionInfo": {
     "elapsed": 3,
     "status": "ok",
     "timestamp": 1743872204221,
     "user": {
      "displayName": "Caio Bruno",
      "userId": "16606825078430534520"
     },
     "user_tz": 180
    },
    "id": "ni6xg8WW8Mr9"
   },
   "outputs": [],
   "source": [
    "deps_admins = [\" \",\"Federal\", \"Estadual\", \"Municipal\", \"Privada\"]\n",
    "\n",
    "def converterDepAdmin(num):\n",
    "    return deps_admins[int(num)]\n",
    "\n",
    "dfDiam['TP_DEPENDENCIA_ADM_ESC'] = dfDiam['TP_DEPENDENCIA_ADM_ESC'].map(converterDepAdmin, na_action=\"ignore\")"
   ]
  },
  {
   "cell_type": "code",
   "execution_count": 83,
   "metadata": {
    "colab": {
     "base_uri": "https://localhost:8080/",
     "height": 210
    },
    "executionInfo": {
     "elapsed": 26,
     "status": "ok",
     "timestamp": 1743872204250,
     "user": {
      "displayName": "Caio Bruno",
      "userId": "16606825078430534520"
     },
     "user_tz": 180
    },
    "id": "wrsjnOwB8Mr9",
    "outputId": "17d20ac6-d824-4a60-cd99-cd7b3e9710a3"
   },
   "outputs": [
    {
     "data": {
      "text/plain": [
       "TP_DEPENDENCIA_ADM_ESC\n",
       "Estadual    0.710227\n",
       "Federal     0.210227\n",
       "Privada     0.079545\n",
       "Name: proportion, dtype: float64"
      ]
     },
     "execution_count": 83,
     "metadata": {},
     "output_type": "execute_result"
    }
   ],
   "source": [
    "dfDiam[\"TP_DEPENDENCIA_ADM_ESC\"].value_counts(normalize=True)"
   ]
  },
  {
   "cell_type": "markdown",
   "metadata": {
    "id": "2PpvbpKV8Mr-"
   },
   "source": [
    "### Escolaridade da Mãe"
   ]
  },
  {
   "cell_type": "code",
   "execution_count": 84,
   "metadata": {
    "executionInfo": {
     "elapsed": 20,
     "status": "ok",
     "timestamp": 1743872204254,
     "user": {
      "displayName": "Caio Bruno",
      "userId": "16606825078430534520"
     },
     "user_tz": 180
    },
    "id": "0IZCHyuv8Mr_"
   },
   "outputs": [],
   "source": [
    "escolaridades = [\"Nunca estudou\",\n",
    "\"Não completou a 4ª série/5º ano do Ensino Fundamental\",\n",
    "\"Completou a 4ª série/5º ano, mas não completou a 8ª série/9º ano do Ensino Fundamental\",\n",
    "\"Completou a 8ª série/9º ano do Ensino Fundamental, mas não completou o Ensino Médio\",\n",
    "\"Completou o Ensino Médio, mas não completou a Faculdade\",\n",
    "\"Completou a Faculdade, mas não completou a Pós-graduação\",\n",
    "\"Completou a Pós-graduação\",\n",
    "\"Não sei\"]\n",
    "\n",
    "def convEscString(letra):\n",
    "    letras = [\"A\",\"B\",\"C\",\"D\",\"E\",\"F\",\"G\",\"H\"]\n",
    "    indice = letras.index(letra)\n",
    "    return escolaridades[indice]\n",
    "\n",
    "dfDiam[\"Q002\"] = dfDiam[\"Q002\"].apply(convEscString)"
   ]
  },
  {
   "cell_type": "code",
   "execution_count": 85,
   "metadata": {
    "colab": {
     "base_uri": "https://localhost:8080/",
     "height": 366
    },
    "executionInfo": {
     "elapsed": 19,
     "status": "ok",
     "timestamp": 1743872204256,
     "user": {
      "displayName": "Caio Bruno",
      "userId": "16606825078430534520"
     },
     "user_tz": 180
    },
    "id": "HNEo7I6K8Mr_",
    "outputId": "1e898765-2d0f-43ca-b11b-75f562272f46"
   },
   "outputs": [
    {
     "data": {
      "text/plain": [
       "Q002\n",
       "Completou o Ensino Médio, mas não completou a Faculdade                                   0.302671\n",
       "Completou a Pós-graduação                                                                 0.145401\n",
       "Completou a 4ª série/5º ano, mas não completou a 8ª série/9º ano do Ensino Fundamental    0.137982\n",
       "Completou a Faculdade, mas não completou a Pós-graduação                                  0.121662\n",
       "Não completou a 4ª série/5º ano do Ensino Fundamental                                     0.117211\n",
       "Completou a 8ª série/9º ano do Ensino Fundamental, mas não completou o Ensino Médio       0.112760\n",
       "Não sei                                                                                   0.038576\n",
       "Nunca estudou                                                                             0.023739\n",
       "Name: proportion, dtype: float64"
      ]
     },
     "execution_count": 85,
     "metadata": {},
     "output_type": "execute_result"
    }
   ],
   "source": [
    "dfDiam[\"Q002\"].value_counts(normalize=True)"
   ]
  },
  {
   "cell_type": "markdown",
   "metadata": {
    "id": "D0-EhJRAE66k"
   },
   "source": [
    "### Renda"
   ]
  },
  {
   "cell_type": "code",
   "execution_count": 86,
   "metadata": {
    "executionInfo": {
     "elapsed": 99,
     "status": "ok",
     "timestamp": 1743872204346,
     "user": {
      "displayName": "Caio Bruno",
      "userId": "16606825078430534520"
     },
     "user_tz": 180
    },
    "id": "eQJ7cZzdEyhR"
   },
   "outputs": [],
   "source": [
    "rendas = [\"Nenhuma Renda\",\n",
    "\"Até R$ 1.320,00\",\n",
    "\"De R$ 1.320,01 até R$ 1.980,00.\",\n",
    "\"De R$ 1.980,01 até R$ 2.640,00.\",\n",
    "\"De R$ 2.640,01 até R$ 3.300,00.\",\n",
    "\"De R$ 3.300,01 até R$ 3.960,00.\",\n",
    "\"De R$ 3.960,01 até R$ 5.280,00.\",\n",
    "\"De R$ 5.280,01 até R$ 6.600,00.\",\n",
    "\"De R$ 6.600,01 até R$ 7.920,00.\",\n",
    "\"De R$ 7.920,01 até R$ 9240,00.\",\n",
    "\"De R$ 9.240,01 até R$ 10.560,00.\",\n",
    "\"De R$ 10.560,01 até R$ 11.880,00.\",\n",
    "\"De R$ 11.880,01 até R$ 13.200,00.\",\n",
    "\"De R$ 13.200,01 até R$ 15.840,00.\",\n",
    "\"De R$ 15.840,01 até R$19.800,00.\",\n",
    "\"De R$ 19.800,01 até R$ 26.400,00.\",\n",
    "\"Acima de R$ 26.400,00.\"]\n",
    "\n",
    "def convRenda(letra):\n",
    "    letras = [\"A\",\"B\",\"C\",\"D\",\"E\",\"F\",\"G\",\"H\",\"I\",\"J\",\"K\",\"L\",\"M\",\"N\",\"O\",\"P\",\"Q\"]\n",
    "    indice = letras.index(letra)\n",
    "    return rendas[indice]\n",
    "\n",
    "dfDiam[\"Q006\"] = dfDiam[\"Q006\"].apply(convRenda)"
   ]
  },
  {
   "cell_type": "code",
   "execution_count": 87,
   "metadata": {
    "colab": {
     "base_uri": "https://localhost:8080/",
     "height": 617
    },
    "executionInfo": {
     "elapsed": 81,
     "status": "ok",
     "timestamp": 1743872204351,
     "user": {
      "displayName": "Caio Bruno",
      "userId": "16606825078430534520"
     },
     "user_tz": 180
    },
    "id": "NVAq9oVFEzVh",
    "outputId": "3a18b6df-82c6-41bd-a9b7-e7a7979b0360"
   },
   "outputs": [
    {
     "data": {
      "text/plain": [
       "Q006\n",
       "Até R$ 1.320,00                      0.410979\n",
       "De R$ 1.320,01 até R$ 1.980,00.      0.178042\n",
       "De R$ 1.980,01 até R$ 2.640,00.      0.090504\n",
       "De R$ 2.640,01 até R$ 3.300,00.      0.066766\n",
       "Nenhuma Renda                        0.056380\n",
       "De R$ 3.960,01 até R$ 5.280,00.      0.047478\n",
       "De R$ 3.300,01 até R$ 3.960,00.      0.043027\n",
       "De R$ 5.280,01 até R$ 6.600,00.      0.019288\n",
       "De R$ 9.240,01 até R$ 10.560,00.     0.016320\n",
       "De R$ 6.600,01 até R$ 7.920,00.      0.013353\n",
       "De R$ 13.200,01 até R$ 15.840,00.    0.013353\n",
       "De R$ 7.920,01 até R$ 9240,00.       0.011869\n",
       "De R$ 19.800,01 até R$ 26.400,00.    0.011869\n",
       "De R$ 15.840,01 até R$19.800,00.     0.007418\n",
       "De R$ 11.880,01 até R$ 13.200,00.    0.007418\n",
       "De R$ 10.560,01 até R$ 11.880,00.    0.005935\n",
       "Name: proportion, dtype: float64"
      ]
     },
     "execution_count": 87,
     "metadata": {},
     "output_type": "execute_result"
    }
   ],
   "source": [
    "dfDiam[\"Q006\"].value_counts(normalize=True)"
   ]
  },
  {
   "cell_type": "markdown",
   "metadata": {
    "id": "mPs-4Lu38MsA"
   },
   "source": [
    "## Janaúba"
   ]
  },
  {
   "cell_type": "code",
   "execution_count": 88,
   "metadata": {
    "colab": {
     "base_uri": "https://localhost:8080/"
    },
    "executionInfo": {
     "elapsed": 19,
     "status": "ok",
     "timestamp": 1743872204369,
     "user": {
      "displayName": "Caio Bruno",
      "userId": "16606825078430534520"
     },
     "user_tz": 180
    },
    "id": "Km8cHdheleid",
    "outputId": "86a61986-d7a3-4a37-d494-45f92d7c663a"
   },
   "outputs": [
    {
     "name": "stdout",
     "output_type": "stream",
     "text": [
      "Total de Candidatos Completistas Português Janaúba (sem nota 0): \n"
     ]
    },
    {
     "data": {
      "text/plain": [
       "475"
      ]
     },
     "execution_count": 88,
     "metadata": {},
     "output_type": "execute_result"
    }
   ],
   "source": [
    "print(\"Total de Candidatos Completistas Português Janaúba (sem nota 0): \")\n",
    "dfJan[\"NU_NOTA_LC\"].count()"
   ]
  },
  {
   "cell_type": "markdown",
   "metadata": {
    "id": "ql38sdNN8MsA"
   },
   "source": [
    "### Cor"
   ]
  },
  {
   "cell_type": "code",
   "execution_count": 89,
   "metadata": {
    "executionInfo": {
     "elapsed": 4,
     "status": "ok",
     "timestamp": 1743872204375,
     "user": {
      "displayName": "Caio Bruno",
      "userId": "16606825078430534520"
     },
     "user_tz": 180
    },
    "id": "nElficKS8MsB"
   },
   "outputs": [],
   "source": [
    "cores = ['Não declarado', 'Branca', 'Preta', 'Parda', 'Amarela', 'Indígena', 'Não dispõe']\n",
    "\n",
    "def converterCor(num):\n",
    "    return cores[num]\n",
    "\n",
    "dfJan['TP_COR_RACA'] = dfJan['TP_COR_RACA'].map(converterCor)"
   ]
  },
  {
   "cell_type": "code",
   "execution_count": 90,
   "metadata": {
    "colab": {
     "base_uri": "https://localhost:8080/",
     "height": 304
    },
    "executionInfo": {
     "elapsed": 16,
     "status": "ok",
     "timestamp": 1743872204395,
     "user": {
      "displayName": "Caio Bruno",
      "userId": "16606825078430534520"
     },
     "user_tz": 180
    },
    "id": "Pz4JDhcD8MsB",
    "outputId": "013eb36e-0cac-4556-fff7-34d3b8f215f2"
   },
   "outputs": [
    {
     "data": {
      "text/plain": [
       "TP_COR_RACA\n",
       "Parda            0.495591\n",
       "Branca           0.243386\n",
       "Preta            0.227513\n",
       "Amarela          0.015873\n",
       "Não declarado    0.012346\n",
       "Indígena         0.005291\n",
       "Name: proportion, dtype: float64"
      ]
     },
     "execution_count": 90,
     "metadata": {},
     "output_type": "execute_result"
    }
   ],
   "source": [
    "dfJan[\"TP_COR_RACA\"].value_counts(normalize=True)"
   ]
  },
  {
   "cell_type": "markdown",
   "metadata": {
    "id": "9KC9YTTi8MsC"
   },
   "source": [
    "### Sexo"
   ]
  },
  {
   "cell_type": "code",
   "execution_count": 91,
   "metadata": {
    "colab": {
     "base_uri": "https://localhost:8080/",
     "height": 178
    },
    "executionInfo": {
     "elapsed": 10,
     "status": "ok",
     "timestamp": 1743872204397,
     "user": {
      "displayName": "Caio Bruno",
      "userId": "16606825078430534520"
     },
     "user_tz": 180
    },
    "id": "oUuzfv4h8MsC",
    "outputId": "655473c9-d3a5-46b2-82eb-fc6bc75cdb8d"
   },
   "outputs": [
    {
     "data": {
      "text/plain": [
       "TP_SEXO\n",
       "F    0.604938\n",
       "M    0.395062\n",
       "Name: proportion, dtype: float64"
      ]
     },
     "execution_count": 91,
     "metadata": {},
     "output_type": "execute_result"
    }
   ],
   "source": [
    "dfJan[\"TP_SEXO\"].value_counts(normalize=True)"
   ]
  },
  {
   "cell_type": "markdown",
   "metadata": {
    "id": "NwoJIn-Z8MsD"
   },
   "source": [
    "### Dependência Administrativa"
   ]
  },
  {
   "cell_type": "code",
   "execution_count": 92,
   "metadata": {
    "executionInfo": {
     "elapsed": 118,
     "status": "ok",
     "timestamp": 1743872204517,
     "user": {
      "displayName": "Caio Bruno",
      "userId": "16606825078430534520"
     },
     "user_tz": 180
    },
    "id": "AoXz5y5f8MsD"
   },
   "outputs": [],
   "source": [
    "deps_admins = [\" \",\"Federal\", \"Estadual\", \"Municipal\", \"Privada\"]\n",
    "\n",
    "def converterDepAdmin(num):\n",
    "    return deps_admins[int(num)]\n",
    "\n",
    "dfJan['TP_DEPENDENCIA_ADM_ESC'] = dfJan['TP_DEPENDENCIA_ADM_ESC'].map(converterDepAdmin, na_action=\"ignore\")"
   ]
  },
  {
   "cell_type": "code",
   "execution_count": 93,
   "metadata": {
    "colab": {
     "base_uri": "https://localhost:8080/",
     "height": 210
    },
    "executionInfo": {
     "elapsed": 84,
     "status": "ok",
     "timestamp": 1743872204522,
     "user": {
      "displayName": "Caio Bruno",
      "userId": "16606825078430534520"
     },
     "user_tz": 180
    },
    "id": "PYUHY6yZ8MsE",
    "outputId": "96643b5d-96d8-4120-9cd2-4d172467bab7"
   },
   "outputs": [
    {
     "data": {
      "text/plain": [
       "TP_DEPENDENCIA_ADM_ESC\n",
       "Estadual    0.481884\n",
       "Privada     0.311594\n",
       "Federal     0.206522\n",
       "Name: proportion, dtype: float64"
      ]
     },
     "execution_count": 93,
     "metadata": {},
     "output_type": "execute_result"
    }
   ],
   "source": [
    "dfJan[\"TP_DEPENDENCIA_ADM_ESC\"].value_counts(normalize=True)"
   ]
  },
  {
   "cell_type": "markdown",
   "metadata": {
    "id": "BU4_dziq8MsJ"
   },
   "source": [
    "### Escolaridade da Mãe"
   ]
  },
  {
   "cell_type": "code",
   "execution_count": 94,
   "metadata": {
    "executionInfo": {
     "elapsed": 22,
     "status": "ok",
     "timestamp": 1743872204523,
     "user": {
      "displayName": "Caio Bruno",
      "userId": "16606825078430534520"
     },
     "user_tz": 180
    },
    "id": "ODuHWvKq8MsK"
   },
   "outputs": [],
   "source": [
    "escolaridades = [\"Nunca estudou\",\n",
    "\"Não completou a 4ª série/5º ano do Ensino Fundamental\",\n",
    "\"Completou a 4ª série/5º ano, mas não completou a 8ª série/9º ano do Ensino Fundamental\",\n",
    "\"Completou a 8ª série/9º ano do Ensino Fundamental, mas não completou o Ensino Médio\",\n",
    "\"Completou o Ensino Médio, mas não completou a Faculdade\",\n",
    "\"Completou a Faculdade, mas não completou a Pós-graduação\",\n",
    "\"Completou a Pós-graduação\",\n",
    "\"Não sei\"]\n",
    "\n",
    "def convEscString(letra):\n",
    "    letras = [\"A\",\"B\",\"C\",\"D\",\"E\",\"F\",\"G\",\"H\"]\n",
    "    indice = letras.index(letra)\n",
    "    return escolaridades[indice]\n",
    "\n",
    "dfJan[\"Q002\"] = dfJan[\"Q002\"].apply(convEscString)"
   ]
  },
  {
   "cell_type": "code",
   "execution_count": 95,
   "metadata": {
    "colab": {
     "base_uri": "https://localhost:8080/",
     "height": 366
    },
    "executionInfo": {
     "elapsed": 24,
     "status": "ok",
     "timestamp": 1743872204529,
     "user": {
      "displayName": "Caio Bruno",
      "userId": "16606825078430534520"
     },
     "user_tz": 180
    },
    "id": "ZMKsS9j68MsK",
    "outputId": "037696b1-cc57-420e-b9e9-d02a59748c93"
   },
   "outputs": [
    {
     "data": {
      "text/plain": [
       "Q002\n",
       "Completou o Ensino Médio, mas não completou a Faculdade                                   0.368607\n",
       "Completou a Faculdade, mas não completou a Pós-graduação                                  0.139330\n",
       "Completou a Pós-graduação                                                                 0.123457\n",
       "Completou a 4ª série/5º ano, mas não completou a 8ª série/9º ano do Ensino Fundamental    0.107584\n",
       "Completou a 8ª série/9º ano do Ensino Fundamental, mas não completou o Ensino Médio       0.102293\n",
       "Não completou a 4ª série/5º ano do Ensino Fundamental                                     0.097002\n",
       "Não sei                                                                                   0.042328\n",
       "Nunca estudou                                                                             0.019400\n",
       "Name: proportion, dtype: float64"
      ]
     },
     "execution_count": 95,
     "metadata": {},
     "output_type": "execute_result"
    }
   ],
   "source": [
    "dfJan[\"Q002\"].value_counts(normalize=True)"
   ]
  },
  {
   "cell_type": "markdown",
   "metadata": {
    "id": "d8D6DYVOFEQ4"
   },
   "source": [
    "### Renda"
   ]
  },
  {
   "cell_type": "code",
   "execution_count": 96,
   "metadata": {
    "executionInfo": {
     "elapsed": 4,
     "status": "ok",
     "timestamp": 1743872204534,
     "user": {
      "displayName": "Caio Bruno",
      "userId": "16606825078430534520"
     },
     "user_tz": 180
    },
    "id": "TMSQ2W4UFGhm"
   },
   "outputs": [],
   "source": [
    "rendas = [\"Nenhuma Renda\",\n",
    "\"Até R$ 1.320,00\",\n",
    "\"De R$ 1.320,01 até R$ 1.980,00.\",\n",
    "\"De R$ 1.980,01 até R$ 2.640,00.\",\n",
    "\"De R$ 2.640,01 até R$ 3.300,00.\",\n",
    "\"De R$ 3.300,01 até R$ 3.960,00.\",\n",
    "\"De R$ 3.960,01 até R$ 5.280,00.\",\n",
    "\"De R$ 5.280,01 até R$ 6.600,00.\",\n",
    "\"De R$ 6.600,01 até R$ 7.920,00.\",\n",
    "\"De R$ 7.920,01 até R$ 9240,00.\",\n",
    "\"De R$ 9.240,01 até R$ 10.560,00.\",\n",
    "\"De R$ 10.560,01 até R$ 11.880,00.\",\n",
    "\"De R$ 11.880,01 até R$ 13.200,00.\",\n",
    "\"De R$ 13.200,01 até R$ 15.840,00.\",\n",
    "\"De R$ 15.840,01 até R$19.800,00.\",\n",
    "\"De R$ 19.800,01 até R$ 26.400,00.\",\n",
    "\"Acima de R$ 26.400,00.\"]\n",
    "\n",
    "def convRenda(letra):\n",
    "    letras = [\"A\",\"B\",\"C\",\"D\",\"E\",\"F\",\"G\",\"H\",\"I\",\"J\",\"K\",\"L\",\"M\",\"N\",\"O\",\"P\",\"Q\"]\n",
    "    indice = letras.index(letra)\n",
    "    return rendas[indice]\n",
    "\n",
    "dfJan[\"Q006\"] = dfJan[\"Q006\"].apply(convRenda)"
   ]
  },
  {
   "cell_type": "code",
   "execution_count": 97,
   "metadata": {
    "colab": {
     "base_uri": "https://localhost:8080/",
     "height": 617
    },
    "executionInfo": {
     "elapsed": 22,
     "status": "ok",
     "timestamp": 1743872204558,
     "user": {
      "displayName": "Caio Bruno",
      "userId": "16606825078430534520"
     },
     "user_tz": 180
    },
    "id": "f336gjScFHJt",
    "outputId": "b3fddd78-972a-449f-8833-8395b21ebc17"
   },
   "outputs": [
    {
     "data": {
      "text/plain": [
       "Q006\n",
       "Até R$ 1.320,00                      0.405644\n",
       "De R$ 1.320,01 até R$ 1.980,00.      0.181658\n",
       "De R$ 1.980,01 até R$ 2.640,00.      0.102293\n",
       "De R$ 3.960,01 até R$ 5.280,00.      0.067019\n",
       "Nenhuma Renda                        0.054674\n",
       "De R$ 2.640,01 até R$ 3.300,00.      0.052910\n",
       "De R$ 3.300,01 até R$ 3.960,00.      0.028219\n",
       "De R$ 5.280,01 até R$ 6.600,00.      0.024691\n",
       "De R$ 6.600,01 até R$ 7.920,00.      0.022928\n",
       "De R$ 9.240,01 até R$ 10.560,00.     0.017637\n",
       "De R$ 7.920,01 até R$ 9240,00.       0.010582\n",
       "De R$ 10.560,01 até R$ 11.880,00.    0.008818\n",
       "De R$ 11.880,01 até R$ 13.200,00.    0.007055\n",
       "De R$ 13.200,01 até R$ 15.840,00.    0.007055\n",
       "De R$ 15.840,01 até R$19.800,00.     0.005291\n",
       "De R$ 19.800,01 até R$ 26.400,00.    0.003527\n",
       "Name: proportion, dtype: float64"
      ]
     },
     "execution_count": 97,
     "metadata": {},
     "output_type": "execute_result"
    }
   ],
   "source": [
    "dfJan[\"Q006\"].value_counts(normalize=True)"
   ]
  },
  {
   "cell_type": "markdown",
   "metadata": {
    "id": "2-TtBYmK8MsK"
   },
   "source": [
    "## Teófilo Otoni"
   ]
  },
  {
   "cell_type": "code",
   "execution_count": 98,
   "metadata": {
    "colab": {
     "base_uri": "https://localhost:8080/"
    },
    "executionInfo": {
     "elapsed": 93,
     "status": "ok",
     "timestamp": 1743872204653,
     "user": {
      "displayName": "Caio Bruno",
      "userId": "16606825078430534520"
     },
     "user_tz": 180
    },
    "id": "4kZeFXfmGHYQ",
    "outputId": "2f669e83-cdc9-471f-9eb5-37476170b7b4"
   },
   "outputs": [
    {
     "name": "stdout",
     "output_type": "stream",
     "text": [
      "Total de Candidatos Completistas Português Teófilo Otoni (sem nota 0): \n"
     ]
    },
    {
     "data": {
      "text/plain": [
       "873"
      ]
     },
     "execution_count": 98,
     "metadata": {},
     "output_type": "execute_result"
    }
   ],
   "source": [
    "print(\"Total de Candidatos Completistas Português Teófilo Otoni (sem nota 0): \")\n",
    "dfTO[\"NU_NOTA_LC\"].count()"
   ]
  },
  {
   "cell_type": "markdown",
   "metadata": {
    "id": "Wb-koTVL8MsL"
   },
   "source": [
    "### Cor"
   ]
  },
  {
   "cell_type": "code",
   "execution_count": 99,
   "metadata": {
    "executionInfo": {
     "elapsed": 6,
     "status": "ok",
     "timestamp": 1743872204660,
     "user": {
      "displayName": "Caio Bruno",
      "userId": "16606825078430534520"
     },
     "user_tz": 180
    },
    "id": "XmetuxH78MsL"
   },
   "outputs": [],
   "source": [
    "cores = ['Não declarado', 'Branca', 'Preta', 'Parda', 'Amarela', 'Indígena', 'Não dispõe']\n",
    "\n",
    "def converterCor(num):\n",
    "    return cores[num]\n",
    "\n",
    "dfTO['TP_COR_RACA'] = dfTO['TP_COR_RACA'].map(converterCor)"
   ]
  },
  {
   "cell_type": "code",
   "execution_count": 100,
   "metadata": {
    "colab": {
     "base_uri": "https://localhost:8080/",
     "height": 304
    },
    "executionInfo": {
     "elapsed": 67,
     "status": "ok",
     "timestamp": 1743872204725,
     "user": {
      "displayName": "Caio Bruno",
      "userId": "16606825078430534520"
     },
     "user_tz": 180
    },
    "id": "L9J4cBXU8MsL",
    "outputId": "9675adea-acc3-42e6-d5a5-b9e87f5c34dc"
   },
   "outputs": [
    {
     "data": {
      "text/plain": [
       "TP_COR_RACA\n",
       "Parda            0.545455\n",
       "Branca           0.266608\n",
       "Preta            0.155594\n",
       "Amarela          0.015734\n",
       "Não declarado    0.011364\n",
       "Indígena         0.005245\n",
       "Name: proportion, dtype: float64"
      ]
     },
     "execution_count": 100,
     "metadata": {},
     "output_type": "execute_result"
    }
   ],
   "source": [
    "dfTO[\"TP_COR_RACA\"].value_counts(normalize=True)"
   ]
  },
  {
   "cell_type": "markdown",
   "metadata": {
    "id": "Rbz9SIwK8MsM"
   },
   "source": [
    "### Sexo"
   ]
  },
  {
   "cell_type": "code",
   "execution_count": 101,
   "metadata": {
    "colab": {
     "base_uri": "https://localhost:8080/",
     "height": 178
    },
    "executionInfo": {
     "elapsed": 13,
     "status": "ok",
     "timestamp": 1743872204727,
     "user": {
      "displayName": "Caio Bruno",
      "userId": "16606825078430534520"
     },
     "user_tz": 180
    },
    "id": "Bv-kXdDj8MsM",
    "outputId": "8717029e-5edd-4413-ded9-466f62fb622d"
   },
   "outputs": [
    {
     "data": {
      "text/plain": [
       "TP_SEXO\n",
       "F    0.625874\n",
       "M    0.374126\n",
       "Name: proportion, dtype: float64"
      ]
     },
     "execution_count": 101,
     "metadata": {},
     "output_type": "execute_result"
    }
   ],
   "source": [
    "dfTO[\"TP_SEXO\"].value_counts(normalize=True)"
   ]
  },
  {
   "cell_type": "markdown",
   "metadata": {
    "id": "8MD0CCCD8MsN"
   },
   "source": [
    "### Dependência Administrativa"
   ]
  },
  {
   "cell_type": "code",
   "execution_count": 102,
   "metadata": {
    "executionInfo": {
     "elapsed": 101,
     "status": "ok",
     "timestamp": 1743872204823,
     "user": {
      "displayName": "Caio Bruno",
      "userId": "16606825078430534520"
     },
     "user_tz": 180
    },
    "id": "B7ij7jei8MsN"
   },
   "outputs": [],
   "source": [
    "deps_admins = [\" \",\"Federal\", \"Estadual\", \"Municipal\", \"Privada\"]\n",
    "\n",
    "def converterDepAdmin(num):\n",
    "    return deps_admins[int(num)]\n",
    "\n",
    "dfTO['TP_DEPENDENCIA_ADM_ESC'] = dfTO['TP_DEPENDENCIA_ADM_ESC'].map(converterDepAdmin, na_action=\"ignore\")"
   ]
  },
  {
   "cell_type": "code",
   "execution_count": 103,
   "metadata": {
    "colab": {
     "base_uri": "https://localhost:8080/",
     "height": 210
    },
    "executionInfo": {
     "elapsed": 101,
     "status": "ok",
     "timestamp": 1743872204829,
     "user": {
      "displayName": "Caio Bruno",
      "userId": "16606825078430534520"
     },
     "user_tz": 180
    },
    "id": "BVbbx_4r8MsO",
    "outputId": "f80212c9-610e-4096-b8c7-55cbce487d23"
   },
   "outputs": [
    {
     "data": {
      "text/plain": [
       "TP_DEPENDENCIA_ADM_ESC\n",
       "Estadual    0.735099\n",
       "Federal     0.134106\n",
       "Privada     0.130795\n",
       "Name: proportion, dtype: float64"
      ]
     },
     "execution_count": 103,
     "metadata": {},
     "output_type": "execute_result"
    }
   ],
   "source": [
    "dfTO[\"TP_DEPENDENCIA_ADM_ESC\"].value_counts(normalize=True)"
   ]
  },
  {
   "cell_type": "markdown",
   "metadata": {
    "id": "DcduFsiL8MsP"
   },
   "source": [
    "### Escolaridade da Mãe"
   ]
  },
  {
   "cell_type": "code",
   "execution_count": 104,
   "metadata": {
    "executionInfo": {
     "elapsed": 94,
     "status": "ok",
     "timestamp": 1743872204831,
     "user": {
      "displayName": "Caio Bruno",
      "userId": "16606825078430534520"
     },
     "user_tz": 180
    },
    "id": "Q9ihxFC38MsP"
   },
   "outputs": [],
   "source": [
    "escolaridades = [\"Nunca estudou\",\n",
    "\"Não completou a 4ª série/5º ano do Ensino Fundamental\",\n",
    "\"Completou a 4ª série/5º ano, mas não completou a 8ª série/9º ano do Ensino Fundamental\",\n",
    "\"Completou a 8ª série/9º ano do Ensino Fundamental, mas não completou o Ensino Médio\",\n",
    "\"Completou o Ensino Médio, mas não completou a Faculdade\",\n",
    "\"Completou a Faculdade, mas não completou a Pós-graduação\",\n",
    "\"Completou a Pós-graduação\",\n",
    "\"Não sei\"]\n",
    "\n",
    "def convEscString(letra):\n",
    "    letras = [\"A\",\"B\",\"C\",\"D\",\"E\",\"F\",\"G\",\"H\"]\n",
    "    indice = letras.index(letra)\n",
    "    return escolaridades[indice]\n",
    "\n",
    "dfTO[\"Q002\"] = dfTO[\"Q002\"].apply(convEscString)"
   ]
  },
  {
   "cell_type": "code",
   "execution_count": 105,
   "metadata": {
    "colab": {
     "base_uri": "https://localhost:8080/",
     "height": 366
    },
    "executionInfo": {
     "elapsed": 94,
     "status": "ok",
     "timestamp": 1743872204834,
     "user": {
      "displayName": "Caio Bruno",
      "userId": "16606825078430534520"
     },
     "user_tz": 180
    },
    "id": "AAcOiXDC8MsQ",
    "outputId": "c3c71dd3-6a5f-4793-fab8-cbfd296916ea"
   },
   "outputs": [
    {
     "data": {
      "text/plain": [
       "Q002\n",
       "Completou o Ensino Médio, mas não completou a Faculdade                                   0.363636\n",
       "Completou a 8ª série/9º ano do Ensino Fundamental, mas não completou o Ensino Médio       0.134615\n",
       "Completou a Faculdade, mas não completou a Pós-graduação                                  0.128497\n",
       "Completou a Pós-graduação                                                                 0.115385\n",
       "Completou a 4ª série/5º ano, mas não completou a 8ª série/9º ano do Ensino Fundamental    0.105769\n",
       "Não completou a 4ª série/5º ano do Ensino Fundamental                                     0.097902\n",
       "Não sei                                                                                   0.036713\n",
       "Nunca estudou                                                                             0.017483\n",
       "Name: proportion, dtype: float64"
      ]
     },
     "execution_count": 105,
     "metadata": {},
     "output_type": "execute_result"
    }
   ],
   "source": [
    "dfTO[\"Q002\"].value_counts(normalize=True)"
   ]
  },
  {
   "cell_type": "markdown",
   "metadata": {
    "id": "nitOHoLRFWEs"
   },
   "source": [
    "### Renda"
   ]
  },
  {
   "cell_type": "code",
   "execution_count": 106,
   "metadata": {
    "executionInfo": {
     "elapsed": 91,
     "status": "ok",
     "timestamp": 1743872204841,
     "user": {
      "displayName": "Caio Bruno",
      "userId": "16606825078430534520"
     },
     "user_tz": 180
    },
    "id": "ytkl4dALFZ0d"
   },
   "outputs": [],
   "source": [
    "rendas = [\"Nenhuma Renda\",\n",
    "\"Até R$ 1.320,00\",\n",
    "\"De R$ 1.320,01 até R$ 1.980,00.\",\n",
    "\"De R$ 1.980,01 até R$ 2.640,00.\",\n",
    "\"De R$ 2.640,01 até R$ 3.300,00.\",\n",
    "\"De R$ 3.300,01 até R$ 3.960,00.\",\n",
    "\"De R$ 3.960,01 até R$ 5.280,00.\",\n",
    "\"De R$ 5.280,01 até R$ 6.600,00.\",\n",
    "\"De R$ 6.600,01 até R$ 7.920,00.\",\n",
    "\"De R$ 7.920,01 até R$ 9240,00.\",\n",
    "\"De R$ 9.240,01 até R$ 10.560,00.\",\n",
    "\"De R$ 10.560,01 até R$ 11.880,00.\",\n",
    "\"De R$ 11.880,01 até R$ 13.200,00.\",\n",
    "\"De R$ 13.200,01 até R$ 15.840,00.\",\n",
    "\"De R$ 15.840,01 até R$19.800,00.\",\n",
    "\"De R$ 19.800,01 até R$ 26.400,00.\",\n",
    "\"Acima de R$ 26.400,00.\"]\n",
    "\n",
    "def convRenda(letra):\n",
    "    letras = [\"A\",\"B\",\"C\",\"D\",\"E\",\"F\",\"G\",\"H\",\"I\",\"J\",\"K\",\"L\",\"M\",\"N\",\"O\",\"P\",\"Q\"]\n",
    "    indice = letras.index(letra)\n",
    "    return rendas[indice]\n",
    "\n",
    "dfTO[\"Q006\"] = dfTO[\"Q006\"].apply(convRenda)"
   ]
  },
  {
   "cell_type": "code",
   "execution_count": 107,
   "metadata": {
    "colab": {
     "base_uri": "https://localhost:8080/",
     "height": 649
    },
    "executionInfo": {
     "elapsed": 16,
     "status": "ok",
     "timestamp": 1743872204853,
     "user": {
      "displayName": "Caio Bruno",
      "userId": "16606825078430534520"
     },
     "user_tz": 180
    },
    "id": "Gqi2oODuFXhX",
    "outputId": "7c930995-f3ae-44a4-de12-5ac0a0b3f15a"
   },
   "outputs": [
    {
     "data": {
      "text/plain": [
       "Q006\n",
       "Até R$ 1.320,00                      0.374126\n",
       "De R$ 1.320,01 até R$ 1.980,00.      0.161713\n",
       "De R$ 1.980,01 até R$ 2.640,00.      0.111014\n",
       "Nenhuma Renda                        0.081294\n",
       "De R$ 2.640,01 até R$ 3.300,00.      0.068182\n",
       "De R$ 3.960,01 até R$ 5.280,00.      0.056818\n",
       "De R$ 3.300,01 até R$ 3.960,00.      0.036713\n",
       "De R$ 5.280,01 até R$ 6.600,00.      0.030594\n",
       "De R$ 6.600,01 até R$ 7.920,00.      0.020979\n",
       "De R$ 9.240,01 até R$ 10.560,00.     0.013112\n",
       "De R$ 7.920,01 até R$ 9240,00.       0.011364\n",
       "De R$ 10.560,01 até R$ 11.880,00.    0.009615\n",
       "De R$ 11.880,01 até R$ 13.200,00.    0.007867\n",
       "De R$ 13.200,01 até R$ 15.840,00.    0.006119\n",
       "De R$ 15.840,01 até R$19.800,00.     0.006119\n",
       "De R$ 19.800,01 até R$ 26.400,00.    0.002622\n",
       "Acima de R$ 26.400,00.               0.001748\n",
       "Name: proportion, dtype: float64"
      ]
     },
     "execution_count": 107,
     "metadata": {},
     "output_type": "execute_result"
    }
   ],
   "source": [
    "dfTO[\"Q006\"].value_counts(normalize=True)"
   ]
  },
  {
   "cell_type": "markdown",
   "metadata": {
    "id": "DviD4WZP8MsR"
   },
   "source": [
    "## Unaí"
   ]
  },
  {
   "cell_type": "code",
   "execution_count": 108,
   "metadata": {
    "colab": {
     "base_uri": "https://localhost:8080/"
    },
    "executionInfo": {
     "elapsed": 32,
     "status": "ok",
     "timestamp": 1743872204886,
     "user": {
      "displayName": "Caio Bruno",
      "userId": "16606825078430534520"
     },
     "user_tz": 180
    },
    "id": "liVx_YFiGJJM",
    "outputId": "1b1c8bc9-2119-47cb-e4af-78da0048f7e4"
   },
   "outputs": [
    {
     "name": "stdout",
     "output_type": "stream",
     "text": [
      "Total de Candidatos Completistas Português Unaí (sem nota 0): \n"
     ]
    },
    {
     "data": {
      "text/plain": [
       "382"
      ]
     },
     "execution_count": 108,
     "metadata": {},
     "output_type": "execute_result"
    }
   ],
   "source": [
    "print(\"Total de Candidatos Completistas Português Unaí (sem nota 0): \")\n",
    "dfUnai[\"NU_NOTA_LC\"].count()"
   ]
  },
  {
   "cell_type": "markdown",
   "metadata": {
    "id": "9FIb-PbK8MsR"
   },
   "source": [
    "### Cor"
   ]
  },
  {
   "cell_type": "code",
   "execution_count": 109,
   "metadata": {
    "executionInfo": {
     "elapsed": 103,
     "status": "ok",
     "timestamp": 1743872205009,
     "user": {
      "displayName": "Caio Bruno",
      "userId": "16606825078430534520"
     },
     "user_tz": 180
    },
    "id": "rDKXp_Jg8MsS"
   },
   "outputs": [],
   "source": [
    "cores = ['Não declarado', 'Branca', 'Preta', 'Parda', 'Amarela', 'Indígena', 'Não dispõe']\n",
    "\n",
    "def converterCor(num):\n",
    "    return cores[num]\n",
    "\n",
    "dfUnai['TP_COR_RACA'] = dfUnai['TP_COR_RACA'].map(converterCor)"
   ]
  },
  {
   "cell_type": "code",
   "execution_count": 110,
   "metadata": {
    "colab": {
     "base_uri": "https://localhost:8080/",
     "height": 304
    },
    "executionInfo": {
     "elapsed": 109,
     "status": "ok",
     "timestamp": 1743872205018,
     "user": {
      "displayName": "Caio Bruno",
      "userId": "16606825078430534520"
     },
     "user_tz": 180
    },
    "id": "Ey6sRSHt8MsS",
    "outputId": "c013da9e-739c-4ed5-a42a-1d79e7961c43"
   },
   "outputs": [
    {
     "data": {
      "text/plain": [
       "TP_COR_RACA\n",
       "Parda            0.457557\n",
       "Branca           0.391304\n",
       "Preta            0.107660\n",
       "Amarela          0.026915\n",
       "Não declarado    0.014493\n",
       "Indígena         0.002070\n",
       "Name: proportion, dtype: float64"
      ]
     },
     "execution_count": 110,
     "metadata": {},
     "output_type": "execute_result"
    }
   ],
   "source": [
    "dfUnai[\"TP_COR_RACA\"].value_counts(normalize=True)"
   ]
  },
  {
   "cell_type": "markdown",
   "metadata": {
    "id": "AqKKEBAp8MsT"
   },
   "source": [
    "### Sexo"
   ]
  },
  {
   "cell_type": "code",
   "execution_count": 111,
   "metadata": {
    "colab": {
     "base_uri": "https://localhost:8080/",
     "height": 178
    },
    "executionInfo": {
     "elapsed": 109,
     "status": "ok",
     "timestamp": 1743872205025,
     "user": {
      "displayName": "Caio Bruno",
      "userId": "16606825078430534520"
     },
     "user_tz": 180
    },
    "id": "udBvckHK8MsU",
    "outputId": "4de35aa0-1e72-46cf-dc93-d712f5e08745"
   },
   "outputs": [
    {
     "data": {
      "text/plain": [
       "TP_SEXO\n",
       "F    0.596273\n",
       "M    0.403727\n",
       "Name: proportion, dtype: float64"
      ]
     },
     "execution_count": 111,
     "metadata": {},
     "output_type": "execute_result"
    }
   ],
   "source": [
    "dfUnai[\"TP_SEXO\"].value_counts(normalize=True)"
   ]
  },
  {
   "cell_type": "markdown",
   "metadata": {
    "id": "llo2_Dnd8MsU"
   },
   "source": [
    "### Dependência Administrativa"
   ]
  },
  {
   "cell_type": "code",
   "execution_count": 112,
   "metadata": {
    "executionInfo": {
     "elapsed": 33,
     "status": "ok",
     "timestamp": 1743872205034,
     "user": {
      "displayName": "Caio Bruno",
      "userId": "16606825078430534520"
     },
     "user_tz": 180
    },
    "id": "_vS3PnX08MsV"
   },
   "outputs": [],
   "source": [
    "deps_admins = [\" \",\"Federal\", \"Estadual\", \"Municipal\", \"Privada\"]\n",
    "\n",
    "def converterDepAdmin(num):\n",
    "    return deps_admins[int(num)]\n",
    "\n",
    "dfUnai['TP_DEPENDENCIA_ADM_ESC'] = dfUnai['TP_DEPENDENCIA_ADM_ESC'].map(converterDepAdmin, na_action=\"ignore\")"
   ]
  },
  {
   "cell_type": "code",
   "execution_count": 113,
   "metadata": {
    "colab": {
     "base_uri": "https://localhost:8080/",
     "height": 210
    },
    "executionInfo": {
     "elapsed": 13,
     "status": "ok",
     "timestamp": 1743872205050,
     "user": {
      "displayName": "Caio Bruno",
      "userId": "16606825078430534520"
     },
     "user_tz": 180
    },
    "id": "MfGCMAaJ8MsV",
    "outputId": "8f82c623-3981-42de-d5b3-42c98d9b5678"
   },
   "outputs": [
    {
     "data": {
      "text/plain": [
       "TP_DEPENDENCIA_ADM_ESC\n",
       "Estadual    0.664474\n",
       "Privada     0.332237\n",
       "Federal     0.003289\n",
       "Name: proportion, dtype: float64"
      ]
     },
     "execution_count": 113,
     "metadata": {},
     "output_type": "execute_result"
    }
   ],
   "source": [
    "dfUnai[\"TP_DEPENDENCIA_ADM_ESC\"].value_counts(normalize=True)"
   ]
  },
  {
   "cell_type": "markdown",
   "metadata": {
    "id": "7hJUYrKm8MsW"
   },
   "source": [
    "### Escolaridade da Mãe"
   ]
  },
  {
   "cell_type": "code",
   "execution_count": 114,
   "metadata": {
    "executionInfo": {
     "elapsed": 8,
     "status": "ok",
     "timestamp": 1743872205060,
     "user": {
      "displayName": "Caio Bruno",
      "userId": "16606825078430534520"
     },
     "user_tz": 180
    },
    "id": "q1kA82MP8MsX"
   },
   "outputs": [],
   "source": [
    "escolaridades = [\"Nunca estudou\",\n",
    "\"Não completou a 4ª série/5º ano do Ensino Fundamental\",\n",
    "\"Completou a 4ª série/5º ano, mas não completou a 8ª série/9º ano do Ensino Fundamental\",\n",
    "\"Completou a 8ª série/9º ano do Ensino Fundamental, mas não completou o Ensino Médio\",\n",
    "\"Completou o Ensino Médio, mas não completou a Faculdade\",\n",
    "\"Completou a Faculdade, mas não completou a Pós-graduação\",\n",
    "\"Completou a Pós-graduação\",\n",
    "\"Não sei\"]\n",
    "\n",
    "def convEscString(letra):\n",
    "    letras = [\"A\",\"B\",\"C\",\"D\",\"E\",\"F\",\"G\",\"H\"]\n",
    "    indice = letras.index(letra)\n",
    "    return escolaridades[indice]\n",
    "\n",
    "dfUnai[\"Q002\"] = dfUnai[\"Q002\"].apply(convEscString)"
   ]
  },
  {
   "cell_type": "code",
   "execution_count": 115,
   "metadata": {
    "colab": {
     "base_uri": "https://localhost:8080/",
     "height": 366
    },
    "executionInfo": {
     "elapsed": 9,
     "status": "ok",
     "timestamp": 1743872205076,
     "user": {
      "displayName": "Caio Bruno",
      "userId": "16606825078430534520"
     },
     "user_tz": 180
    },
    "id": "W_W0FPgm8MsX",
    "outputId": "4e4a58f7-a928-47eb-acf5-48e50f64e31c"
   },
   "outputs": [
    {
     "data": {
      "text/plain": [
       "Q002\n",
       "Completou o Ensino Médio, mas não completou a Faculdade                                   0.360248\n",
       "Completou a Faculdade, mas não completou a Pós-graduação                                  0.159420\n",
       "Completou a Pós-graduação                                                                 0.142857\n",
       "Completou a 8ª série/9º ano do Ensino Fundamental, mas não completou o Ensino Médio       0.126294\n",
       "Completou a 4ª série/5º ano, mas não completou a 8ª série/9º ano do Ensino Fundamental    0.091097\n",
       "Não completou a 4ª série/5º ano do Ensino Fundamental                                     0.080745\n",
       "Não sei                                                                                   0.035197\n",
       "Nunca estudou                                                                             0.004141\n",
       "Name: proportion, dtype: float64"
      ]
     },
     "execution_count": 115,
     "metadata": {},
     "output_type": "execute_result"
    }
   ],
   "source": [
    "dfUnai[\"Q002\"].value_counts(normalize=True)"
   ]
  },
  {
   "cell_type": "markdown",
   "metadata": {
    "id": "vu2OO0uH8j3m"
   },
   "source": [
    "### Renda"
   ]
  },
  {
   "cell_type": "code",
   "execution_count": 116,
   "metadata": {
    "executionInfo": {
     "elapsed": 5,
     "status": "ok",
     "timestamp": 1743872205082,
     "user": {
      "displayName": "Caio Bruno",
      "userId": "16606825078430534520"
     },
     "user_tz": 180
    },
    "id": "hYcwPpE98l1J"
   },
   "outputs": [],
   "source": [
    "rendas = [\"Nenhuma Renda\",\n",
    "\"Até R$ 1.320,00\",\n",
    "\"De R$ 1.320,01 até R$ 1.980,00.\",\n",
    "\"De R$ 1.980,01 até R$ 2.640,00.\",\n",
    "\"De R$ 2.640,01 até R$ 3.300,00.\",\n",
    "\"De R$ 3.300,01 até R$ 3.960,00.\",\n",
    "\"De R$ 3.960,01 até R$ 5.280,00.\",\n",
    "\"De R$ 5.280,01 até R$ 6.600,00.\",\n",
    "\"De R$ 6.600,01 até R$ 7.920,00.\",\n",
    "\"De R$ 7.920,01 até R$ 9240,00.\",\n",
    "\"De R$ 9.240,01 até R$ 10.560,00.\",\n",
    "\"De R$ 10.560,01 até R$ 11.880,00.\",\n",
    "\"De R$ 11.880,01 até R$ 13.200,00.\",\n",
    "\"De R$ 13.200,01 até R$ 15.840,00.\",\n",
    "\"De R$ 15.840,01 até R$19.800,00.\",\n",
    "\"De R$ 19.800,01 até R$ 26.400,00.\",\n",
    "\"Acima de R$ 26.400,00.\"]\n",
    "\n",
    "def convRenda(letra):\n",
    "    letras = [\"A\",\"B\",\"C\",\"D\",\"E\",\"F\",\"G\",\"H\",\"I\",\"J\",\"K\",\"L\",\"M\",\"N\",\"O\",\"P\",\"Q\"]\n",
    "    indice = letras.index(letra)\n",
    "    return rendas[indice]\n",
    "\n",
    "dfUnai[\"Q006\"] = dfUnai[\"Q006\"].apply(convRenda)"
   ]
  },
  {
   "cell_type": "code",
   "execution_count": 117,
   "metadata": {
    "colab": {
     "base_uri": "https://localhost:8080/",
     "height": 649
    },
    "executionInfo": {
     "elapsed": 107,
     "status": "ok",
     "timestamp": 1743872205193,
     "user": {
      "displayName": "Caio Bruno",
      "userId": "16606825078430534520"
     },
     "user_tz": 180
    },
    "id": "J1Wg2yD8FkyU",
    "outputId": "f9e3ac1a-2ee3-4c0b-bc90-d194c1ee271d"
   },
   "outputs": [
    {
     "data": {
      "text/plain": [
       "Q006\n",
       "Até R$ 1.320,00                      0.217391\n",
       "De R$ 1.320,01 até R$ 1.980,00.      0.186335\n",
       "De R$ 1.980,01 até R$ 2.640,00.      0.163561\n",
       "De R$ 3.960,01 até R$ 5.280,00.      0.086957\n",
       "De R$ 2.640,01 até R$ 3.300,00.      0.076605\n",
       "De R$ 3.300,01 até R$ 3.960,00.      0.055901\n",
       "De R$ 5.280,01 até R$ 6.600,00.      0.041408\n",
       "De R$ 10.560,01 até R$ 11.880,00.    0.026915\n",
       "De R$ 15.840,01 até R$19.800,00.     0.020704\n",
       "Nenhuma Renda                        0.020704\n",
       "De R$ 6.600,01 até R$ 7.920,00.      0.018634\n",
       "De R$ 9.240,01 até R$ 10.560,00.     0.018634\n",
       "De R$ 7.920,01 até R$ 9240,00.       0.016563\n",
       "De R$ 19.800,01 até R$ 26.400,00.    0.014493\n",
       "De R$ 13.200,01 até R$ 15.840,00.    0.014493\n",
       "Acima de R$ 26.400,00.               0.012422\n",
       "De R$ 11.880,01 até R$ 13.200,00.    0.008282\n",
       "Name: proportion, dtype: float64"
      ]
     },
     "execution_count": 117,
     "metadata": {},
     "output_type": "execute_result"
    }
   ],
   "source": [
    "dfUnai[\"Q006\"].value_counts(normalize=True)"
   ]
  },
  {
   "cell_type": "markdown",
   "metadata": {
    "id": "KaIr6JaF8MsY"
   },
   "source": [
    "# Fazendo a Análise Estatística das Notas"
   ]
  },
  {
   "cell_type": "markdown",
   "metadata": {
    "id": "TjI44MVN8MsY"
   },
   "source": [
    "## Análise Descritiva das Notas"
   ]
  },
  {
   "cell_type": "markdown",
   "metadata": {
    "id": "qjiHemE98MsY"
   },
   "source": [
    "### Minas Gerais"
   ]
  },
  {
   "cell_type": "code",
   "execution_count": 118,
   "metadata": {
    "colab": {
     "base_uri": "https://localhost:8080/",
     "height": 366
    },
    "executionInfo": {
     "elapsed": 54,
     "status": "ok",
     "timestamp": 1743872205243,
     "user": {
      "displayName": "Caio Bruno",
      "userId": "16606825078430534520"
     },
     "user_tz": 180
    },
    "id": "MYEXzbTh8MsZ",
    "outputId": "5210dcc0-8015-414b-f966-3cbb3d81c610"
   },
   "outputs": [
    {
     "data": {
      "text/plain": [
       "count       88331.000000\n",
       "mean          527.461001\n",
       "std            69.734351\n",
       "min           287.200000\n",
       "25%           483.900000\n",
       "50%           531.600000\n",
       "75%           575.900000\n",
       "max           768.900000\n",
       "var_coef        7.563862\n",
       "Name: NU_NOTA_LC, dtype: float64"
      ]
     },
     "execution_count": 118,
     "metadata": {},
     "output_type": "execute_result"
    }
   ],
   "source": [
    "analise_descritivaMG = dfMG[\"NU_NOTA_LC\"].describe()\n",
    "\n",
    "# Criando coeficiente de variação\n",
    "coef_var = dfMG[\"NU_NOTA_LC\"].mean() / dfMG[\"NU_NOTA_LC\"].std()\n",
    "analise_descritivaMG.loc['var_coef'] = coef_var\n",
    "\n",
    "analise_descritivaMG"
   ]
  },
  {
   "cell_type": "markdown",
   "metadata": {
    "id": "YDp-RDea8MsZ"
   },
   "source": [
    "### Diamantina"
   ]
  },
  {
   "cell_type": "code",
   "execution_count": 119,
   "metadata": {
    "colab": {
     "base_uri": "https://localhost:8080/",
     "height": 366
    },
    "executionInfo": {
     "elapsed": 28,
     "status": "ok",
     "timestamp": 1743872205248,
     "user": {
      "displayName": "Caio Bruno",
      "userId": "16606825078430534520"
     },
     "user_tz": 180
    },
    "id": "Q0GEKVCt8Msa",
    "outputId": "e0625d49-53a7-4c8f-f9b2-7617f7c70077"
   },
   "outputs": [
    {
     "data": {
      "text/plain": [
       "count       572.000000\n",
       "mean        506.456818\n",
       "std          67.120667\n",
       "min         310.100000\n",
       "25%         461.600000\n",
       "50%         512.050000\n",
       "75%         554.325000\n",
       "max         644.500000\n",
       "var_coef      7.545468\n",
       "Name: NU_NOTA_LC, dtype: float64"
      ]
     },
     "execution_count": 119,
     "metadata": {},
     "output_type": "execute_result"
    }
   ],
   "source": [
    "analise_descritivaDiam = dfDiam[\"NU_NOTA_LC\"].describe()\n",
    "\n",
    "# Criando coeficiente de variação\n",
    "coef_var = dfDiam[\"NU_NOTA_LC\"].mean() / dfDiam[\"NU_NOTA_LC\"].std()\n",
    "analise_descritivaDiam.loc['var_coef'] = coef_var\n",
    "\n",
    "analise_descritivaDiam"
   ]
  },
  {
   "cell_type": "markdown",
   "metadata": {
    "id": "LVjtSosO8Msb"
   },
   "source": [
    "### Janaúba"
   ]
  },
  {
   "cell_type": "code",
   "execution_count": 120,
   "metadata": {
    "colab": {
     "base_uri": "https://localhost:8080/",
     "height": 366
    },
    "executionInfo": {
     "elapsed": 16,
     "status": "ok",
     "timestamp": 1743872205250,
     "user": {
      "displayName": "Caio Bruno",
      "userId": "16606825078430534520"
     },
     "user_tz": 180
    },
    "id": "Xge3593J8Msc",
    "outputId": "78d5e993-aa26-4f85-cde0-9b63eaf6affd"
   },
   "outputs": [
    {
     "data": {
      "text/plain": [
       "count       475.000000\n",
       "mean        505.151789\n",
       "std          72.235806\n",
       "min         293.800000\n",
       "25%         456.350000\n",
       "50%         512.000000\n",
       "75%         556.400000\n",
       "max         711.500000\n",
       "var_coef      6.993094\n",
       "Name: NU_NOTA_LC, dtype: float64"
      ]
     },
     "execution_count": 120,
     "metadata": {},
     "output_type": "execute_result"
    }
   ],
   "source": [
    "analise_descritivaJan = dfJan[\"NU_NOTA_LC\"].describe()\n",
    "\n",
    "# Criando coeficiente de variação\n",
    "coef_var = dfJan[\"NU_NOTA_LC\"].mean() / dfJan[\"NU_NOTA_LC\"].std()\n",
    "analise_descritivaJan.loc['var_coef'] = coef_var\n",
    "\n",
    "analise_descritivaJan"
   ]
  },
  {
   "cell_type": "markdown",
   "metadata": {
    "id": "UDBipvWT8Msd"
   },
   "source": [
    "### Teófilo Otoni"
   ]
  },
  {
   "cell_type": "code",
   "execution_count": 121,
   "metadata": {
    "colab": {
     "base_uri": "https://localhost:8080/",
     "height": 366
    },
    "executionInfo": {
     "elapsed": 76,
     "status": "ok",
     "timestamp": 1743872205328,
     "user": {
      "displayName": "Caio Bruno",
      "userId": "16606825078430534520"
     },
     "user_tz": 180
    },
    "id": "40R4EMdA8Mse",
    "outputId": "009b41ea-9d82-4884-a403-886bce6e3de8"
   },
   "outputs": [
    {
     "data": {
      "text/plain": [
       "count       873.000000\n",
       "mean        512.976403\n",
       "std          67.858577\n",
       "min         293.400000\n",
       "25%         474.000000\n",
       "50%         516.800000\n",
       "75%         558.700000\n",
       "max         709.200000\n",
       "var_coef      7.559493\n",
       "Name: NU_NOTA_LC, dtype: float64"
      ]
     },
     "execution_count": 121,
     "metadata": {},
     "output_type": "execute_result"
    }
   ],
   "source": [
    "analise_descritivaTO = dfTO[\"NU_NOTA_LC\"].describe()\n",
    "\n",
    "# Criando coeficiente de variação\n",
    "coef_var = dfTO[\"NU_NOTA_LC\"].mean() / dfTO[\"NU_NOTA_LC\"].std()\n",
    "analise_descritivaTO.loc['var_coef'] = coef_var\n",
    "\n",
    "analise_descritivaTO"
   ]
  },
  {
   "cell_type": "markdown",
   "metadata": {
    "id": "T3D06MJh8Mse"
   },
   "source": [
    "### Unaí"
   ]
  },
  {
   "cell_type": "code",
   "execution_count": 122,
   "metadata": {
    "colab": {
     "base_uri": "https://localhost:8080/",
     "height": 366
    },
    "executionInfo": {
     "elapsed": 18,
     "status": "ok",
     "timestamp": 1743872205347,
     "user": {
      "displayName": "Caio Bruno",
      "userId": "16606825078430534520"
     },
     "user_tz": 180
    },
    "id": "sAlVih_q8Msf",
    "outputId": "36dde02f-0a4e-48d4-fbe3-34d640628fc8"
   },
   "outputs": [
    {
     "data": {
      "text/plain": [
       "count       382.000000\n",
       "mean        523.867277\n",
       "std          68.614180\n",
       "min         303.400000\n",
       "25%         481.175000\n",
       "50%         529.550000\n",
       "75%         575.925000\n",
       "max         673.100000\n",
       "var_coef      7.634971\n",
       "Name: NU_NOTA_LC, dtype: float64"
      ]
     },
     "execution_count": 122,
     "metadata": {},
     "output_type": "execute_result"
    }
   ],
   "source": [
    "analise_descritivaUnai = dfUnai[\"NU_NOTA_LC\"].describe()\n",
    "\n",
    "# Criando coeficiente de variação\n",
    "coef_var = dfUnai[\"NU_NOTA_LC\"].mean() / dfUnai[\"NU_NOTA_LC\"].std()\n",
    "analise_descritivaUnai.loc['var_coef'] = coef_var\n",
    "\n",
    "analise_descritivaUnai"
   ]
  },
  {
   "cell_type": "markdown",
   "metadata": {
    "id": "VXI0oX3O8Msf"
   },
   "source": [
    "## Análise de distribuição das notas"
   ]
  },
  {
   "cell_type": "markdown",
   "metadata": {
    "id": "PwsjYZek8Msg"
   },
   "source": [
    "### Minas Gerais"
   ]
  },
  {
   "cell_type": "code",
   "execution_count": 123,
   "metadata": {
    "colab": {
     "base_uri": "https://localhost:8080/",
     "height": 449
    },
    "executionInfo": {
     "elapsed": 164,
     "status": "ok",
     "timestamp": 1743872205507,
     "user": {
      "displayName": "Caio Bruno",
      "userId": "16606825078430534520"
     },
     "user_tz": 180
    },
    "id": "IrXyKCN38Msg",
    "outputId": "51ebf6b6-5117-4d9e-bf14-64b43e05d4df"
   },
   "outputs": [
    {
     "data": {
      "image/png": "[encoded data removed]",
      "text/plain": [
       "<Figure size 640x480 with 1 Axes>"
      ]
     },
     "metadata": {},
     "output_type": "display_data"
    }
   ],
   "source": [
    "plt.hist(dfMG['NU_NOTA_LC'], bins=30)\n",
    "plt.xlabel(\"Nota\")\n",
    "plt.ylabel(\"Quantidade\")\n",
    "plt.show()"
   ]
  },
  {
   "cell_type": "markdown",
   "metadata": {
    "id": "MU4fzgvs8Msh"
   },
   "source": [
    "### Diamantina"
   ]
  },
  {
   "cell_type": "code",
   "execution_count": 124,
   "metadata": {
    "colab": {
     "base_uri": "https://localhost:8080/",
     "height": 449
    },
    "executionInfo": {
     "elapsed": 35,
     "status": "ok",
     "timestamp": 1743872205543,
     "user": {
      "displayName": "Caio Bruno",
      "userId": "16606825078430534520"
     },
     "user_tz": 180
    },
    "id": "t9CvWzZG8Msh",
    "outputId": "d8c700fd-056c-4ccf-e89c-b228646f1767"
   },
   "outputs": [
    {
     "data": {
      "image/png": "[encoded data removed]",
      "text/plain": [
       "<Figure size 640x480 with 1 Axes>"
      ]
     },
     "metadata": {},
     "output_type": "display_data"
    }
   ],
   "source": [
    "plt.hist(dfDiam['NU_NOTA_LC'], bins=30)\n",
    "plt.xlabel(\"Nota\")\n",
    "plt.ylabel(\"Quantidade\")\n",
    "plt.show()"
   ]
  },
  {
   "cell_type": "markdown",
   "metadata": {
    "id": "0HwsGt9A8Msi"
   },
   "source": [
    "### Janaúba"
   ]
  },
  {
   "cell_type": "code",
   "execution_count": 125,
   "metadata": {
    "colab": {
     "base_uri": "https://localhost:8080/",
     "height": 449
    },
    "executionInfo": {
     "elapsed": 130,
     "status": "ok",
     "timestamp": 1743872205668,
     "user": {
      "displayName": "Caio Bruno",
      "userId": "16606825078430534520"
     },
     "user_tz": 180
    },
    "id": "5dG2M2TK8Msi",
    "outputId": "1b8f6957-dd6c-49fc-aa5b-69b412c82ab1"
   },
   "outputs": [
    {
     "data": {
      "image/png": "[encoded data removed]",
      "text/plain": [
       "<Figure size 640x480 with 1 Axes>"
      ]
     },
     "metadata": {},
     "output_type": "display_data"
    }
   ],
   "source": [
    "plt.hist(dfJan['NU_NOTA_LC'], bins=30)\n",
    "plt.xlabel(\"Nota\")\n",
    "plt.ylabel(\"Quantidade\")\n",
    "plt.show()"
   ]
  },
  {
   "cell_type": "markdown",
   "metadata": {
    "id": "m-ooJFqG8Msj"
   },
   "source": [
    "### Teófilo Otoni"
   ]
  },
  {
   "cell_type": "code",
   "execution_count": 126,
   "metadata": {
    "colab": {
     "base_uri": "https://localhost:8080/",
     "height": 449
    },
    "executionInfo": {
     "elapsed": 38,
     "status": "ok",
     "timestamp": 1743872205700,
     "user": {
      "displayName": "Caio Bruno",
      "userId": "16606825078430534520"
     },
     "user_tz": 180
    },
    "id": "EQPylG118Msj",
    "outputId": "8960b446-03f3-4693-afa9-81f370ce170b"
   },
   "outputs": [
    {
     "data": {
      "image/png": "[encoded data removed]",
      "text/plain": [
       "<Figure size 640x480 with 1 Axes>"
      ]
     },
     "metadata": {},
     "output_type": "display_data"
    }
   ],
   "source": [
    "plt.hist(dfTO['NU_NOTA_LC'], bins=30)\n",
    "plt.xlabel(\"Nota\")\n",
    "plt.ylabel(\"Quantidade\")\n",
    "plt.show()"
   ]
  },
  {
   "cell_type": "markdown",
   "metadata": {
    "id": "LIkmTi6P8Msk"
   },
   "source": [
    "### Unaí"
   ]
  },
  {
   "cell_type": "code",
   "execution_count": 127,
   "metadata": {
    "colab": {
     "base_uri": "https://localhost:8080/",
     "height": 449
    },
    "executionInfo": {
     "elapsed": 92,
     "status": "ok",
     "timestamp": 1743872205794,
     "user": {
      "displayName": "Caio Bruno",
      "userId": "16606825078430534520"
     },
     "user_tz": 180
    },
    "id": "XAnbZ3cZ8Msk",
    "outputId": "559dc422-7fcc-4951-e3cc-8437aa7a59e4"
   },
   "outputs": [
    {
     "data": {
      "image/png": "[encoded data removed]",
      "text/plain": [
       "<Figure size 640x480 with 1 Axes>"
      ]
     },
     "metadata": {},
     "output_type": "display_data"
    }
   ],
   "source": [
    "plt.hist(dfUnai['NU_NOTA_LC'], bins=30)\n",
    "plt.xlabel(\"Nota\")\n",
    "plt.ylabel(\"Quantidade\")\n",
    "plt.show()"
   ]
  },
  {
   "cell_type": "markdown",
   "metadata": {
    "id": "Oan3lHJE_frO"
   },
   "source": [
    "## Boxplots"
   ]
  },
  {
   "cell_type": "code",
   "execution_count": 128,
   "metadata": {
    "executionInfo": {
     "elapsed": 1849,
     "status": "ok",
     "timestamp": 1743872207638,
     "user": {
      "displayName": "Caio Bruno",
      "userId": "16606825078430534520"
     },
     "user_tz": 180
    },
    "id": "ioS-YKwD_jPU"
   },
   "outputs": [],
   "source": [
    "dfMG = pd.read_csv(\"./Data/DadosMG/DadosPT_MG.csv\", sep=\";\", encoding=\"utf-8\")\n",
    "dfDiam = pd.read_csv(\"./Data/Diamantina/DadosPT_Diam.csv\", sep=\";\", encoding=\"utf-8\")\n",
    "dfJan = pd.read_csv(\"./Data/Janauba/DadosPT_Janauba.csv\", sep=\";\", encoding=\"utf-8\")\n",
    "dfTO = pd.read_csv(\"./Data/Teofilo Otoni/DadosPT_TO.csv\", sep=\";\", encoding=\"utf-8\")\n",
    "dfUnai = pd.read_csv(\"./Data/Unai/DadosPT_Unai.csv\", sep=\";\", encoding=\"utf-8\")\n",
    "\n",
    "# Para fazer os boxplot, decidi carregar os bancos de dados novamente para evitar problemas\n",
    "# como alteração no nome de algumas variáveis"
   ]
  },
  {
   "cell_type": "code",
   "execution_count": 129,
   "metadata": {
    "executionInfo": {
     "elapsed": 189,
     "status": "ok",
     "timestamp": 1743872208071,
     "user": {
      "displayName": "Caio Bruno",
      "userId": "16606825078430534520"
     },
     "user_tz": 180
    },
    "id": "qAkZuNtS_le6"
   },
   "outputs": [],
   "source": [
    "# Algumas declarações de variáveis\n",
    "\n",
    "cores = ['0 = Não declarado',\n",
    "         '1 = Branca',\n",
    "         '2 = Preta',\n",
    "         '3 = Parda',\n",
    "         '4 = Amarela',\n",
    "         '5 = Indígena']\n",
    "\n",
    "escolaridades = [\"A = Nunca estudou\",\n",
    "\"B = Não completou a 4ª série/5º ano do Ensino Fundamental\",\n",
    "\"C = Completou a 4ª série/5º ano, mas não completou a 8ª série/9º ano do Ensino Fundamental\",\n",
    "\"D = Completou a 8ª série/9º ano do Ensino Fundamental, mas não completou o Ensino Médio\",\n",
    "\"E = Completou o Ensino Médio, mas não completou a Faculdade\",\n",
    "\"F = Completou a Faculdade, mas não completou a Pós-graduação\",\n",
    "\"G = Completou a Pós-graduação\",\n",
    "\"H = Não sei\"]\n",
    "\n",
    "rendas = [\"A = Nenhuma Renda\",\n",
    "\"B = Até R$ 1.320,00\",\n",
    "\"C = De R$ 1.320,01 até R$ 1.980,00\",\n",
    "\"D = De R$ 1.980,01 até R$ 2.640,00\",\n",
    "\"E = De R$ 2.640,01 até R$ 3.300,00\",\n",
    "\"F = De R$ 3.300,01 até R$ 3.960,00\",\n",
    "\"G = De R$ 3.960,01 até R$ 5.280,00\",\n",
    "\"H = De R$ 5.280,01 até R$ 6.600,00\",\n",
    "\"I = De R$ 6.600,01 até R$ 7.920,00\",\n",
    "\"J = De R$ 7.920,01 até R$ 9240,00\",\n",
    "\"K = De R$ 9.240,01 até R$ 10.560,00\",\n",
    "\"L = De R$ 10.560,01 até R$ 11.880,00\",\n",
    "\"M = De R$ 11.880,01 até R$ 13.200,00\",\n",
    "\"N = De R$ 13.200,01 até R$ 15.840,00\",\n",
    "\"O = De R$ 15.840,01 até R$19.800,00\",\n",
    "\"P = De R$ 19.800,01 até R$ 26.400,00\",\n",
    "\"Q = Acima de R$ 26.400,00\"]\n",
    "\n",
    "dependencias = [\"1 = Federal\", \"2 = Estadual\", \"3 = Municipal\", \"4 = Privada\"]\n",
    "\n",
    "dfMG[\"Q006\"] = dfMG[\"Q006\"].astype(\"category\")\n",
    "dfDiam[\"Q006\"] = dfDiam[\"Q006\"].astype(\"category\")\n",
    "dfJan[\"Q006\"] = dfJan[\"Q006\"].astype(\"category\")\n",
    "dfTO[\"Q006\"] = dfTO[\"Q006\"].astype(\"category\")\n",
    "dfUnai[\"Q006\"] = dfUnai[\"Q006\"].astype(\"category\")\n",
    "dfMG[\"Q002\"] = dfMG[\"Q002\"].astype(\"category\")\n",
    "dfDiam[\"Q002\"] = dfDiam[\"Q002\"].astype(\"category\")\n",
    "dfJan[\"Q002\"] = dfJan[\"Q002\"].astype(\"category\")\n",
    "dfTO[\"Q002\"] = dfTO[\"Q002\"].astype(\"category\")\n",
    "dfUnai[\"Q002\"] = dfUnai[\"Q002\"].astype(\"category\")"
   ]
  },
  {
   "cell_type": "markdown",
   "metadata": {
    "id": "YgmJPV9zA6Xi"
   },
   "source": [
    "### Minas Gerais"
   ]
  },
  {
   "cell_type": "markdown",
   "metadata": {
    "id": "FT7-kdM1ATB6"
   },
   "source": [
    "#### Cor"
   ]
  },
  {
   "cell_type": "code",
   "execution_count": 130,
   "metadata": {
    "colab": {
     "base_uri": "https://localhost:8080/",
     "height": 996
    },
    "executionInfo": {
     "elapsed": 255,
     "status": "ok",
     "timestamp": 1743872208328,
     "user": {
      "displayName": "Caio Bruno",
      "userId": "16606825078430534520"
     },
     "user_tz": 180
    },
    "id": "pkghPj1u_4e8",
    "outputId": "d3e83905-8626-4f05-a1fa-7e138c7393e8"
   },
   "outputs": [
    {
     "name": "stdout",
     "output_type": "stream",
     "text": [
      "0 = Não declarado\n",
      "1 = Branca\n",
      "2 = Preta\n",
      "3 = Parda\n",
      "4 = Amarela\n",
      "5 = Indígena\n"
     ]
    },
    {
     "data": {
      "text/plain": [
       "0          3 = Parda\n",
       "1         1 = Branca\n",
       "2          3 = Parda\n",
       "3         1 = Branca\n",
       "4          3 = Parda\n",
       "             ...    \n",
       "109430    1 = Branca\n",
       "109431     3 = Parda\n",
       "109432    1 = Branca\n",
       "109433     3 = Parda\n",
       "109434     3 = Parda\n",
       "Name: TP_COR_RACA, Length: 109435, dtype: object"
      ]
     },
     "execution_count": 130,
     "metadata": {},
     "output_type": "execute_result"
    },
    {
     "data": {
      "image/png": "[encoded data removed]",
      "text/plain": [
       "<Figure size 640x480 with 1 Axes>"
      ]
     },
     "metadata": {},
     "output_type": "display_data"
    }
   ],
   "source": [
    "dfMG_CorConv = dfMG.copy()\n",
    "\n",
    "dfMG_CorConv[\"TP_COR_RACA\"] = dfMG[\"TP_COR_RACA\"].map(converterCor)\n",
    "\n",
    "sns.boxplot(x=\"TP_COR_RACA\", y=\"NU_NOTA_LC\", data=dfMG_CorConv)\n",
    "for i in cores:\n",
    "    print(i)\n",
    "\n",
    "dfMG_CorConv[\"TP_COR_RACA\"]"
   ]
  },
  {
   "cell_type": "markdown",
   "metadata": {
    "id": "YYktnYufApxP"
   },
   "source": [
    "#### Sexo"
   ]
  },
  {
   "cell_type": "code",
   "execution_count": 131,
   "metadata": {
    "colab": {
     "base_uri": "https://localhost:8080/",
     "height": 143
    },
    "executionInfo": {
     "elapsed": 49,
     "status": "ok",
     "timestamp": 1743872208374,
     "user": {
      "displayName": "Caio Bruno",
      "userId": "16606825078430534520"
     },
     "user_tz": 180
    },
    "id": "2eRS3R8eCh39",
    "outputId": "5c1f6d7c-ec6b-4181-caf5-588f8824c363"
   },
   "outputs": [
    {
     "data": {
      "text/html": [
       "<div>\n",
       "<style scoped>\n",
       "    .dataframe tbody tr th:only-of-type {\n",
       "        vertical-align: middle;\n",
       "    }\n",
       "\n",
       "    .dataframe tbody tr th {\n",
       "        vertical-align: top;\n",
       "    }\n",
       "\n",
       "    .dataframe thead th {\n",
       "        text-align: right;\n",
       "    }\n",
       "</style>\n",
       "<table border=\"1\" class=\"dataframe\">\n",
       "  <thead>\n",
       "    <tr style=\"text-align: right;\">\n",
       "      <th></th>\n",
       "      <th>count</th>\n",
       "      <th>mean</th>\n",
       "      <th>std</th>\n",
       "      <th>min</th>\n",
       "      <th>25%</th>\n",
       "      <th>50%</th>\n",
       "      <th>75%</th>\n",
       "      <th>max</th>\n",
       "    </tr>\n",
       "    <tr>\n",
       "      <th>TP_SEXO</th>\n",
       "      <th></th>\n",
       "      <th></th>\n",
       "      <th></th>\n",
       "      <th></th>\n",
       "      <th></th>\n",
       "      <th></th>\n",
       "      <th></th>\n",
       "      <th></th>\n",
       "    </tr>\n",
       "  </thead>\n",
       "  <tbody>\n",
       "    <tr>\n",
       "      <th>F</th>\n",
       "      <td>53887.0</td>\n",
       "      <td>525.394925</td>\n",
       "      <td>68.366321</td>\n",
       "      <td>287.2</td>\n",
       "      <td>482.1</td>\n",
       "      <td>528.4</td>\n",
       "      <td>572.3</td>\n",
       "      <td>758.6</td>\n",
       "    </tr>\n",
       "    <tr>\n",
       "      <th>M</th>\n",
       "      <td>34444.0</td>\n",
       "      <td>530.693340</td>\n",
       "      <td>71.704032</td>\n",
       "      <td>289.2</td>\n",
       "      <td>487.1</td>\n",
       "      <td>536.7</td>\n",
       "      <td>580.7</td>\n",
       "      <td>768.9</td>\n",
       "    </tr>\n",
       "  </tbody>\n",
       "</table>\n",
       "</div>"
      ],
      "text/plain": [
       "           count        mean        std    min    25%    50%    75%    max\n",
       "TP_SEXO                                                                   \n",
       "F        53887.0  525.394925  68.366321  287.2  482.1  528.4  572.3  758.6\n",
       "M        34444.0  530.693340  71.704032  289.2  487.1  536.7  580.7  768.9"
      ]
     },
     "execution_count": 131,
     "metadata": {},
     "output_type": "execute_result"
    }
   ],
   "source": [
    "grupoSexo = dfMG.groupby(\"TP_SEXO\")\n",
    "grupoSexo['NU_NOTA_LC'].describe()"
   ]
  },
  {
   "cell_type": "code",
   "execution_count": 132,
   "metadata": {
    "colab": {
     "base_uri": "https://localhost:8080/",
     "height": 466
    },
    "executionInfo": {
     "elapsed": 433,
     "status": "ok",
     "timestamp": 1743872208808,
     "user": {
      "displayName": "Caio Bruno",
      "userId": "16606825078430534520"
     },
     "user_tz": 180
    },
    "id": "MT0V4NriAJBl",
    "outputId": "a60809fa-bd37-46bb-9227-8537e6601a61"
   },
   "outputs": [
    {
     "data": {
      "text/plain": [
       "<Axes: xlabel='TP_SEXO', ylabel='NU_NOTA_LC'>"
      ]
     },
     "execution_count": 132,
     "metadata": {},
     "output_type": "execute_result"
    },
    {
     "data": {
      "image/png": "[encoded data removed]",
      "text/plain": [
       "<Figure size 640x480 with 1 Axes>"
      ]
     },
     "metadata": {},
     "output_type": "display_data"
    }
   ],
   "source": [
    "sns.boxplot(x=\"TP_SEXO\", y=\"NU_NOTA_LC\", data=dfMG)"
   ]
  },
  {
   "cell_type": "markdown",
   "metadata": {
    "id": "UU3-GaDhA_2R"
   },
   "source": [
    "#### Depedência Administrativa"
   ]
  },
  {
   "cell_type": "code",
   "execution_count": 133,
   "metadata": {
    "colab": {
     "base_uri": "https://localhost:8080/",
     "height": 536
    },
    "executionInfo": {
     "elapsed": 324,
     "status": "ok",
     "timestamp": 1743872209133,
     "user": {
      "displayName": "Caio Bruno",
      "userId": "16606825078430534520"
     },
     "user_tz": 180
    },
    "id": "lewMRW8RGHIy",
    "outputId": "72d6650f-aedf-4933-8720-f3612d369a36"
   },
   "outputs": [
    {
     "name": "stdout",
     "output_type": "stream",
     "text": [
      "1 = Federal\n",
      "2 = Estadual\n",
      "3 = Municipal\n",
      "4 = Privada\n"
     ]
    },
    {
     "data": {
      "text/plain": [
       "<Axes: xlabel='TP_DEPENDENCIA_ADM_ESC', ylabel='NU_NOTA_LC'>"
      ]
     },
     "execution_count": 133,
     "metadata": {},
     "output_type": "execute_result"
    },
    {
     "data": {
      "image/png": "[encoded data removed]",
      "text/plain": [
       "<Figure size 640x480 with 1 Axes>"
      ]
     },
     "metadata": {},
     "output_type": "display_data"
    }
   ],
   "source": [
    "for i in dependencias:\n",
    "    print(i)\n",
    "sns.boxplot(x=\"TP_DEPENDENCIA_ADM_ESC\", y=\"NU_NOTA_LC\", data=dfMG)"
   ]
  },
  {
   "cell_type": "markdown",
   "metadata": {
    "id": "_LK8jkwoGQmx"
   },
   "source": [
    "#### Escolaridade da Mãe"
   ]
  },
  {
   "cell_type": "code",
   "execution_count": 134,
   "metadata": {
    "colab": {
     "base_uri": "https://localhost:8080/",
     "height": 588
    },
    "executionInfo": {
     "elapsed": 364,
     "status": "ok",
     "timestamp": 1743872209499,
     "user": {
      "displayName": "Caio Bruno",
      "userId": "16606825078430534520"
     },
     "user_tz": 180
    },
    "id": "izdNuMn_GTYQ",
    "outputId": "7742a55a-578a-4946-cca1-6abac1fb3c39"
   },
   "outputs": [
    {
     "name": "stdout",
     "output_type": "stream",
     "text": [
      "A = Nunca estudou\n",
      "B = Não completou a 4ª série/5º ano do Ensino Fundamental\n",
      "C = Completou a 4ª série/5º ano, mas não completou a 8ª série/9º ano do Ensino Fundamental\n",
      "D = Completou a 8ª série/9º ano do Ensino Fundamental, mas não completou o Ensino Médio\n",
      "E = Completou o Ensino Médio, mas não completou a Faculdade\n",
      "F = Completou a Faculdade, mas não completou a Pós-graduação\n",
      "G = Completou a Pós-graduação\n",
      "H = Não sei\n"
     ]
    },
    {
     "data": {
      "image/png": "[encoded data removed]",
      "text/plain": [
       "<Figure size 640x480 with 1 Axes>"
      ]
     },
     "metadata": {},
     "output_type": "display_data"
    }
   ],
   "source": [
    "sns.boxplot(x=\"Q002\", y=\"NU_NOTA_LC\", color=\"#D73421\", data=dfMG, order=dfMG['Q002'].cat.categories)\n",
    "\n",
    "plt.xlabel('Escolaridade da Mãe')\n",
    "plt.ylabel('Nota em LCT')\n",
    "\n",
    "for i in escolaridades:\n",
    "    print(i)"
   ]
  },
  {
   "cell_type": "markdown",
   "metadata": {
    "id": "nWOEKtpdGeG1"
   },
   "source": [
    "#### Renda Familiar"
   ]
  },
  {
   "cell_type": "code",
   "execution_count": 135,
   "metadata": {
    "colab": {
     "base_uri": "https://localhost:8080/",
     "height": 744
    },
    "executionInfo": {
     "elapsed": 488,
     "status": "ok",
     "timestamp": 1743872209989,
     "user": {
      "displayName": "Caio Bruno",
      "userId": "16606825078430534520"
     },
     "user_tz": 180
    },
    "id": "oyODDE6zGgV7",
    "outputId": "7e22e69b-e6a8-4686-ebac-4f489bd07129"
   },
   "outputs": [
    {
     "name": "stdout",
     "output_type": "stream",
     "text": [
      "A = Nenhuma Renda\n",
      "B = Até R$ 1.320,00\n",
      "C = De R$ 1.320,01 até R$ 1.980,00\n",
      "D = De R$ 1.980,01 até R$ 2.640,00\n",
      "E = De R$ 2.640,01 até R$ 3.300,00\n",
      "F = De R$ 3.300,01 até R$ 3.960,00\n",
      "G = De R$ 3.960,01 até R$ 5.280,00\n",
      "H = De R$ 5.280,01 até R$ 6.600,00\n",
      "I = De R$ 6.600,01 até R$ 7.920,00\n",
      "J = De R$ 7.920,01 até R$ 9240,00\n",
      "K = De R$ 9.240,01 até R$ 10.560,00\n",
      "L = De R$ 10.560,01 até R$ 11.880,00\n",
      "M = De R$ 11.880,01 até R$ 13.200,00\n",
      "N = De R$ 13.200,01 até R$ 15.840,00\n",
      "O = De R$ 15.840,01 até R$19.800,00\n",
      "P = De R$ 19.800,01 até R$ 26.400,00\n",
      "Q = Acima de R$ 26.400,00\n"
     ]
    },
    {
     "data": {
      "image/png": "[encoded data removed]",
      "text/plain": [
       "<Figure size 640x480 with 1 Axes>"
      ]
     },
     "metadata": {},
     "output_type": "display_data"
    }
   ],
   "source": [
    "sns.boxplot(x=\"Q006\", y=\"NU_NOTA_LC\", color=\"#06886C\", data=dfMG, order=dfMG['Q006'].cat.categories)\n",
    "\n",
    "plt.xlabel('Renda Familiar')\n",
    "plt.ylabel('Nota em LCT')\n",
    "\n",
    "for i in rendas:\n",
    "    print(i)"
   ]
  },
  {
   "cell_type": "markdown",
   "metadata": {
    "id": "fkwzTRjQGwbF"
   },
   "source": [
    "### Diamantina"
   ]
  },
  {
   "cell_type": "markdown",
   "metadata": {
    "id": "wFe-LvEQGwPw"
   },
   "source": [
    "#### Cor"
   ]
  },
  {
   "cell_type": "code",
   "execution_count": 136,
   "metadata": {
    "colab": {
     "base_uri": "https://localhost:8080/",
     "height": 553
    },
    "executionInfo": {
     "elapsed": 143,
     "status": "ok",
     "timestamp": 1743872210129,
     "user": {
      "displayName": "Caio Bruno",
      "userId": "16606825078430534520"
     },
     "user_tz": 180
    },
    "id": "xB7KxFCOIwdP",
    "outputId": "f7d9a996-7762-4381-f41a-1690f6b4ddc1"
   },
   "outputs": [
    {
     "name": "stdout",
     "output_type": "stream",
     "text": [
      "0 = Não declarado\n",
      "1 = Branca\n",
      "2 = Preta\n",
      "3 = Parda\n",
      "4 = Amarela\n",
      "5 = Indígena\n"
     ]
    },
    {
     "data": {
      "image/png": "[encoded data removed]",
      "text/plain": [
       "<Figure size 640x480 with 1 Axes>"
      ]
     },
     "metadata": {},
     "output_type": "display_data"
    }
   ],
   "source": [
    "sns.boxplot(x=\"TP_COR_RACA\", y=\"NU_NOTA_LC\", data=dfDiam)\n",
    "for i in cores:\n",
    "    print(i)"
   ]
  },
  {
   "cell_type": "markdown",
   "metadata": {
    "id": "qNhAes0WGqw4"
   },
   "source": [
    "#### Sexo"
   ]
  },
  {
   "cell_type": "code",
   "execution_count": 137,
   "metadata": {
    "colab": {
     "base_uri": "https://localhost:8080/",
     "height": 466
    },
    "executionInfo": {
     "elapsed": 355,
     "status": "ok",
     "timestamp": 1743872210487,
     "user": {
      "displayName": "Caio Bruno",
      "userId": "16606825078430534520"
     },
     "user_tz": 180
    },
    "id": "wNG0lHJaIxjH",
    "outputId": "03b7684a-e614-4ebf-82c9-4ec2df5a277a"
   },
   "outputs": [
    {
     "data": {
      "text/plain": [
       "<Axes: xlabel='TP_SEXO', ylabel='NU_NOTA_LC'>"
      ]
     },
     "execution_count": 137,
     "metadata": {},
     "output_type": "execute_result"
    },
    {
     "data": {
      "image/png": "[encoded data removed]",
      "text/plain": [
       "<Figure size 640x480 with 1 Axes>"
      ]
     },
     "metadata": {},
     "output_type": "display_data"
    }
   ],
   "source": [
    "sns.boxplot(x=\"TP_SEXO\", y=\"NU_NOTA_LC\", data=dfDiam)"
   ]
  },
  {
   "cell_type": "markdown",
   "metadata": {
    "id": "LsHi-ZGdGqbP"
   },
   "source": [
    "#### Dependência Administrativa"
   ]
  },
  {
   "cell_type": "code",
   "execution_count": 138,
   "metadata": {
    "colab": {
     "base_uri": "https://localhost:8080/",
     "height": 537
    },
    "executionInfo": {
     "elapsed": 168,
     "status": "ok",
     "timestamp": 1743872210657,
     "user": {
      "displayName": "Caio Bruno",
      "userId": "16606825078430534520"
     },
     "user_tz": 180
    },
    "id": "ufAY4A4nIySB",
    "outputId": "207425f0-2554-4cd4-d4e8-ad75eabf537d"
   },
   "outputs": [
    {
     "name": "stdout",
     "output_type": "stream",
     "text": [
      "1 = Federal\n",
      "2 = Estadual\n",
      "3 = Municipal\n",
      "4 = Privada\n"
     ]
    },
    {
     "data": {
      "text/plain": [
       "Text(0, 0.5, 'Nota em LCT')"
      ]
     },
     "execution_count": 138,
     "metadata": {},
     "output_type": "execute_result"
    },
    {
     "data": {
      "image/png": "[encoded data removed]",
      "text/plain": [
       "<Figure size 640x480 with 1 Axes>"
      ]
     },
     "metadata": {},
     "output_type": "display_data"
    }
   ],
   "source": [
    "for i in dependencias:\n",
    "    print(i)\n",
    "sns.boxplot(x=\"TP_DEPENDENCIA_ADM_ESC\", y=\"NU_NOTA_LC\", data=dfDiam)\n",
    "\n",
    "plt.xlabel('Dependência Administrativa')\n",
    "plt.ylabel('Nota em LCT')"
   ]
  },
  {
   "cell_type": "code",
   "execution_count": 139,
   "metadata": {
    "colab": {
     "base_uri": "https://localhost:8080/",
     "height": 573
    },
    "executionInfo": {
     "elapsed": 426,
     "status": "ok",
     "timestamp": 1743872211085,
     "user": {
      "displayName": "Caio Bruno",
      "userId": "16606825078430534520"
     },
     "user_tz": 180
    },
    "id": "blTXImppSMm6",
    "outputId": "41537e87-6557-4c1f-9634-4aff03207c5a"
   },
   "outputs": [
    {
     "data": {
      "text/plain": [
       "(array([0, 1, 2, 3]),\n",
       " [Text(0, 0, 'Estadual'),\n",
       "  Text(1, 0, 'Federal'),\n",
       "  Text(2, 0, 'Municipal'),\n",
       "  Text(3, 0, 'Privada')])"
      ]
     },
     "execution_count": 139,
     "metadata": {},
     "output_type": "execute_result"
    },
    {
     "data": {
      "image/png": "[encoded data removed]",
      "text/plain": [
       "<Figure size 640x480 with 1 Axes>"
      ]
     },
     "metadata": {},
     "output_type": "display_data"
    }
   ],
   "source": [
    "dic = {1: \"Federal\", 2: \"Estadual\", 3: \"Municipal\", 4:  \"Privada\"}\n",
    "\n",
    "def converterDep(num):\n",
    "    return dic[num]\n",
    "\n",
    "dfMG_depConv = dfMG.copy()\n",
    "dfMG_depConv['TP_DEPENDENCIA_ADM_ESC'] = dfMG_depConv['TP_DEPENDENCIA_ADM_ESC'].map(converterDep, na_action='ignore')\n",
    "\n",
    "grupoDep = dfMG_depConv.groupby(\"TP_DEPENDENCIA_ADM_ESC\")\n",
    "grupoDep['NU_NOTA_LC'].mean().plot.bar(xlabel=\"Dependência Administrativa\",ylabel=\"Nota média em LCT\", color=[\"#06886C\", \"#93374E\", \"#D73421\", \"#FFA51F\"])\n",
    "plt.xticks(rotation=30)"
   ]
  },
  {
   "cell_type": "markdown",
   "metadata": {
    "id": "tCgd1l8MGqGo"
   },
   "source": [
    "#### Escolaridade da Mãe"
   ]
  },
  {
   "cell_type": "code",
   "execution_count": 140,
   "metadata": {
    "colab": {
     "base_uri": "https://localhost:8080/",
     "height": 588
    },
    "executionInfo": {
     "elapsed": 215,
     "status": "ok",
     "timestamp": 1743872211302,
     "user": {
      "displayName": "Caio Bruno",
      "userId": "16606825078430534520"
     },
     "user_tz": 180
    },
    "id": "Z9DY1ag6Iy02",
    "outputId": "b5bfdd99-777a-4239-a186-8a0432574cb1"
   },
   "outputs": [
    {
     "name": "stdout",
     "output_type": "stream",
     "text": [
      "A = Nunca estudou\n",
      "B = Não completou a 4ª série/5º ano do Ensino Fundamental\n",
      "C = Completou a 4ª série/5º ano, mas não completou a 8ª série/9º ano do Ensino Fundamental\n",
      "D = Completou a 8ª série/9º ano do Ensino Fundamental, mas não completou o Ensino Médio\n",
      "E = Completou o Ensino Médio, mas não completou a Faculdade\n",
      "F = Completou a Faculdade, mas não completou a Pós-graduação\n",
      "G = Completou a Pós-graduação\n",
      "H = Não sei\n"
     ]
    },
    {
     "data": {
      "image/png": "[encoded data removed]",
      "text/plain": [
       "<Figure size 640x480 with 1 Axes>"
      ]
     },
     "metadata": {},
     "output_type": "display_data"
    }
   ],
   "source": [
    "sns.boxplot(x=\"Q002\", y=\"NU_NOTA_LC\", data=dfDiam, order=dfDiam['Q002'].cat.categories)\n",
    "\n",
    "for i in escolaridades:\n",
    "    print(i)"
   ]
  },
  {
   "cell_type": "markdown",
   "metadata": {
    "id": "1X3-A8NHGu-W"
   },
   "source": [
    "#### Renda Familiar"
   ]
  },
  {
   "cell_type": "code",
   "execution_count": 141,
   "metadata": {
    "colab": {
     "base_uri": "https://localhost:8080/",
     "height": 744
    },
    "executionInfo": {
     "elapsed": 256,
     "status": "ok",
     "timestamp": 1743872211559,
     "user": {
      "displayName": "Caio Bruno",
      "userId": "16606825078430534520"
     },
     "user_tz": 180
    },
    "id": "bWh3hJHsIzjo",
    "outputId": "fb2980ac-147b-43cf-f3bb-885a3a96d24f"
   },
   "outputs": [
    {
     "name": "stdout",
     "output_type": "stream",
     "text": [
      "A = Nenhuma Renda\n",
      "B = Até R$ 1.320,00\n",
      "C = De R$ 1.320,01 até R$ 1.980,00\n",
      "D = De R$ 1.980,01 até R$ 2.640,00\n",
      "E = De R$ 2.640,01 até R$ 3.300,00\n",
      "F = De R$ 3.300,01 até R$ 3.960,00\n",
      "G = De R$ 3.960,01 até R$ 5.280,00\n",
      "H = De R$ 5.280,01 até R$ 6.600,00\n",
      "I = De R$ 6.600,01 até R$ 7.920,00\n",
      "J = De R$ 7.920,01 até R$ 9240,00\n",
      "K = De R$ 9.240,01 até R$ 10.560,00\n",
      "L = De R$ 10.560,01 até R$ 11.880,00\n",
      "M = De R$ 11.880,01 até R$ 13.200,00\n",
      "N = De R$ 13.200,01 até R$ 15.840,00\n",
      "O = De R$ 15.840,01 até R$19.800,00\n",
      "P = De R$ 19.800,01 até R$ 26.400,00\n",
      "Q = Acima de R$ 26.400,00\n"
     ]
    },
    {
     "data": {
      "image/png": "[encoded data removed]",
      "text/plain": [
       "<Figure size 640x480 with 1 Axes>"
      ]
     },
     "metadata": {},
     "output_type": "display_data"
    }
   ],
   "source": [
    "sns.boxplot(x=\"Q006\", y=\"NU_NOTA_LC\", data=dfDiam, order=dfDiam['Q006'].cat.categories)\n",
    "\n",
    "for i in rendas:\n",
    "    print(i)"
   ]
  },
  {
   "cell_type": "markdown",
   "metadata": {
    "id": "iUoMLEptHM6z"
   },
   "source": [
    "### Janaúba"
   ]
  },
  {
   "cell_type": "markdown",
   "metadata": {
    "id": "o5nQQzrjHW1J"
   },
   "source": [
    "#### Cor"
   ]
  },
  {
   "cell_type": "code",
   "execution_count": 142,
   "metadata": {
    "colab": {
     "base_uri": "https://localhost:8080/",
     "height": 553
    },
    "executionInfo": {
     "elapsed": 399,
     "status": "ok",
     "timestamp": 1743872211963,
     "user": {
      "displayName": "Caio Bruno",
      "userId": "16606825078430534520"
     },
     "user_tz": 180
    },
    "id": "H53XL6pyI0L8",
    "outputId": "46c83518-1d8e-4659-fb02-225e01d62a98"
   },
   "outputs": [
    {
     "name": "stdout",
     "output_type": "stream",
     "text": [
      "0 = Não declarado\n",
      "1 = Branca\n",
      "2 = Preta\n",
      "3 = Parda\n",
      "4 = Amarela\n",
      "5 = Indígena\n"
     ]
    },
    {
     "data": {
      "image/png": "[encoded data removed]",
      "text/plain": [
       "<Figure size 640x480 with 1 Axes>"
      ]
     },
     "metadata": {},
     "output_type": "display_data"
    }
   ],
   "source": [
    "sns.boxplot(x=\"TP_COR_RACA\", y=\"NU_NOTA_LC\", data=dfJan)\n",
    "for i in cores:\n",
    "    print(i)"
   ]
  },
  {
   "cell_type": "markdown",
   "metadata": {
    "id": "PONgmrc3HYUm"
   },
   "source": [
    "#### Sexo"
   ]
  },
  {
   "cell_type": "code",
   "execution_count": 143,
   "metadata": {
    "colab": {
     "base_uri": "https://localhost:8080/",
     "height": 466
    },
    "executionInfo": {
     "elapsed": 82,
     "status": "ok",
     "timestamp": 1743872212047,
     "user": {
      "displayName": "Caio Bruno",
      "userId": "16606825078430534520"
     },
     "user_tz": 180
    },
    "id": "YvE0A3ULI0in",
    "outputId": "e98875f6-fb1a-44bb-f024-c98427735898"
   },
   "outputs": [
    {
     "data": {
      "text/plain": [
       "<Axes: xlabel='TP_SEXO', ylabel='NU_NOTA_LC'>"
      ]
     },
     "execution_count": 143,
     "metadata": {},
     "output_type": "execute_result"
    },
    {
     "data": {
      "image/png": "[encoded data removed]",
      "text/plain": [
       "<Figure size 640x480 with 1 Axes>"
      ]
     },
     "metadata": {},
     "output_type": "display_data"
    }
   ],
   "source": [
    "sns.boxplot(x=\"TP_SEXO\", y=\"NU_NOTA_LC\", data=dfJan)"
   ]
  },
  {
   "cell_type": "markdown",
   "metadata": {
    "id": "TkEfBu6oHZih"
   },
   "source": [
    "#### Dependência Administrativa"
   ]
  },
  {
   "cell_type": "code",
   "execution_count": 144,
   "metadata": {
    "colab": {
     "base_uri": "https://localhost:8080/",
     "height": 536
    },
    "executionInfo": {
     "elapsed": 260,
     "status": "ok",
     "timestamp": 1743872212310,
     "user": {
      "displayName": "Caio Bruno",
      "userId": "16606825078430534520"
     },
     "user_tz": 180
    },
    "id": "gtJsBdUbI09Z",
    "outputId": "c4cc0b1f-0a69-4ac9-962c-17ed4b0b3b73"
   },
   "outputs": [
    {
     "name": "stdout",
     "output_type": "stream",
     "text": [
      "1 = Federal\n",
      "2 = Estadual\n",
      "3 = Municipal\n",
      "4 = Privada\n"
     ]
    },
    {
     "data": {
      "text/plain": [
       "<Axes: xlabel='TP_DEPENDENCIA_ADM_ESC', ylabel='NU_NOTA_LC'>"
      ]
     },
     "execution_count": 144,
     "metadata": {},
     "output_type": "execute_result"
    },
    {
     "data": {
      "image/png": "[encoded data removed]",
      "text/plain": [
       "<Figure size 640x480 with 1 Axes>"
      ]
     },
     "metadata": {},
     "output_type": "display_data"
    }
   ],
   "source": [
    "for i in dependencias:\n",
    "    print(i)\n",
    "sns.boxplot(x=\"TP_DEPENDENCIA_ADM_ESC\", y=\"NU_NOTA_LC\", data=dfJan)"
   ]
  },
  {
   "cell_type": "markdown",
   "metadata": {
    "id": "sM1JDYx3HfW0"
   },
   "source": [
    "#### Escolaridade da Mãe"
   ]
  },
  {
   "cell_type": "code",
   "execution_count": 145,
   "metadata": {
    "colab": {
     "base_uri": "https://localhost:8080/",
     "height": 588
    },
    "executionInfo": {
     "elapsed": 305,
     "status": "ok",
     "timestamp": 1743872212613,
     "user": {
      "displayName": "Caio Bruno",
      "userId": "16606825078430534520"
     },
     "user_tz": 180
    },
    "id": "TdZa_2zXI1V8",
    "outputId": "ce0236a9-b5ff-4d97-86e1-797d7388d3c7"
   },
   "outputs": [
    {
     "name": "stdout",
     "output_type": "stream",
     "text": [
      "A = Nunca estudou\n",
      "B = Não completou a 4ª série/5º ano do Ensino Fundamental\n",
      "C = Completou a 4ª série/5º ano, mas não completou a 8ª série/9º ano do Ensino Fundamental\n",
      "D = Completou a 8ª série/9º ano do Ensino Fundamental, mas não completou o Ensino Médio\n",
      "E = Completou o Ensino Médio, mas não completou a Faculdade\n",
      "F = Completou a Faculdade, mas não completou a Pós-graduação\n",
      "G = Completou a Pós-graduação\n",
      "H = Não sei\n"
     ]
    },
    {
     "data": {
      "image/png": "[encoded data removed]",
      "text/plain": [
       "<Figure size 640x480 with 1 Axes>"
      ]
     },
     "metadata": {},
     "output_type": "display_data"
    }
   ],
   "source": [
    "sns.boxplot(x=\"Q002\", y=\"NU_NOTA_LC\", data=dfJan, order=dfJan['Q002'].cat.categories)\n",
    "\n",
    "for i in escolaridades:\n",
    "    print(i)"
   ]
  },
  {
   "cell_type": "markdown",
   "metadata": {
    "id": "lJbDPuq7HhU0"
   },
   "source": [
    "#### Renda Familiar"
   ]
  },
  {
   "cell_type": "code",
   "execution_count": 146,
   "metadata": {
    "colab": {
     "base_uri": "https://localhost:8080/",
     "height": 744
    },
    "executionInfo": {
     "elapsed": 636,
     "status": "ok",
     "timestamp": 1743872213251,
     "user": {
      "displayName": "Caio Bruno",
      "userId": "16606825078430534520"
     },
     "user_tz": 180
    },
    "id": "71TfOWFNI10f",
    "outputId": "4bf0ec33-f13b-421e-f0ef-796abfc3895f"
   },
   "outputs": [
    {
     "name": "stdout",
     "output_type": "stream",
     "text": [
      "A = Nenhuma Renda\n",
      "B = Até R$ 1.320,00\n",
      "C = De R$ 1.320,01 até R$ 1.980,00\n",
      "D = De R$ 1.980,01 até R$ 2.640,00\n",
      "E = De R$ 2.640,01 até R$ 3.300,00\n",
      "F = De R$ 3.300,01 até R$ 3.960,00\n",
      "G = De R$ 3.960,01 até R$ 5.280,00\n",
      "H = De R$ 5.280,01 até R$ 6.600,00\n",
      "I = De R$ 6.600,01 até R$ 7.920,00\n",
      "J = De R$ 7.920,01 até R$ 9240,00\n",
      "K = De R$ 9.240,01 até R$ 10.560,00\n",
      "L = De R$ 10.560,01 até R$ 11.880,00\n",
      "M = De R$ 11.880,01 até R$ 13.200,00\n",
      "N = De R$ 13.200,01 até R$ 15.840,00\n",
      "O = De R$ 15.840,01 até R$19.800,00\n",
      "P = De R$ 19.800,01 até R$ 26.400,00\n",
      "Q = Acima de R$ 26.400,00\n"
     ]
    },
    {
     "data": {
      "image/png": "[encoded data removed]",
      "text/plain": [
       "<Figure size 640x480 with 1 Axes>"
      ]
     },
     "metadata": {},
     "output_type": "display_data"
    }
   ],
   "source": [
    "sns.boxplot(x=\"Q006\", y=\"NU_NOTA_LC\", data=dfJan, order=dfJan['Q006'].cat.categories)\n",
    "\n",
    "for i in rendas:\n",
    "    print(i)"
   ]
  },
  {
   "cell_type": "markdown",
   "metadata": {
    "id": "B575MKAlHuyS"
   },
   "source": [
    "### Teófilo Otoni"
   ]
  },
  {
   "cell_type": "markdown",
   "metadata": {
    "id": "wInj89H4Hytu"
   },
   "source": [
    "#### Cor"
   ]
  },
  {
   "cell_type": "code",
   "execution_count": 147,
   "metadata": {
    "colab": {
     "base_uri": "https://localhost:8080/",
     "height": 553
    },
    "executionInfo": {
     "elapsed": 109,
     "status": "ok",
     "timestamp": 1743872213363,
     "user": {
      "displayName": "Caio Bruno",
      "userId": "16606825078430534520"
     },
     "user_tz": 180
    },
    "id": "hKYNET-dI2fy",
    "outputId": "1873c925-516f-4f94-8592-6aa7c3623ed0"
   },
   "outputs": [
    {
     "name": "stdout",
     "output_type": "stream",
     "text": [
      "0 = Não declarado\n",
      "1 = Branca\n",
      "2 = Preta\n",
      "3 = Parda\n",
      "4 = Amarela\n",
      "5 = Indígena\n"
     ]
    },
    {
     "data": {
      "image/png": "[encoded data removed]",
      "text/plain": [
       "<Figure size 640x480 with 1 Axes>"
      ]
     },
     "metadata": {},
     "output_type": "display_data"
    }
   ],
   "source": [
    "sns.boxplot(x=\"TP_COR_RACA\", y=\"NU_NOTA_LC\", data=dfTO)\n",
    "for i in cores:\n",
    "    print(i)"
   ]
  },
  {
   "cell_type": "markdown",
   "metadata": {
    "id": "nonhirPzH0iO"
   },
   "source": [
    "#### Sexo"
   ]
  },
  {
   "cell_type": "code",
   "execution_count": 148,
   "metadata": {
    "colab": {
     "base_uri": "https://localhost:8080/",
     "height": 466
    },
    "executionInfo": {
     "elapsed": 189,
     "status": "ok",
     "timestamp": 1743872213554,
     "user": {
      "displayName": "Caio Bruno",
      "userId": "16606825078430534520"
     },
     "user_tz": 180
    },
    "id": "Aw-x9QZII22h",
    "outputId": "9b420d9a-613d-4fff-e98e-a6875a667db1"
   },
   "outputs": [
    {
     "data": {
      "text/plain": [
       "<Axes: xlabel='TP_SEXO', ylabel='NU_NOTA_LC'>"
      ]
     },
     "execution_count": 148,
     "metadata": {},
     "output_type": "execute_result"
    },
    {
     "data": {
      "image/png": "[encoded data removed]",
      "text/plain": [
       "<Figure size 640x480 with 1 Axes>"
      ]
     },
     "metadata": {},
     "output_type": "display_data"
    }
   ],
   "source": [
    "sns.boxplot(x=\"TP_SEXO\", y=\"NU_NOTA_LC\", data=dfTO)"
   ]
  },
  {
   "cell_type": "markdown",
   "metadata": {
    "id": "RJ4vDTN9H1XC"
   },
   "source": [
    "#### Dependência Administrativa"
   ]
  },
  {
   "cell_type": "code",
   "execution_count": 149,
   "metadata": {
    "colab": {
     "base_uri": "https://localhost:8080/",
     "height": 536
    },
    "executionInfo": {
     "elapsed": 335,
     "status": "ok",
     "timestamp": 1743872213888,
     "user": {
      "displayName": "Caio Bruno",
      "userId": "16606825078430534520"
     },
     "user_tz": 180
    },
    "id": "1NEWKwXnI3MG",
    "outputId": "e29baae8-17e5-4659-b746-26959595892a"
   },
   "outputs": [
    {
     "name": "stdout",
     "output_type": "stream",
     "text": [
      "1 = Federal\n",
      "2 = Estadual\n",
      "3 = Municipal\n",
      "4 = Privada\n"
     ]
    },
    {
     "data": {
      "text/plain": [
       "<Axes: xlabel='TP_DEPENDENCIA_ADM_ESC', ylabel='NU_NOTA_LC'>"
      ]
     },
     "execution_count": 149,
     "metadata": {},
     "output_type": "execute_result"
    },
    {
     "data": {
      "image/png": "[encoded data removed]",
      "text/plain": [
       "<Figure size 640x480 with 1 Axes>"
      ]
     },
     "metadata": {},
     "output_type": "display_data"
    }
   ],
   "source": [
    "for i in dependencias:\n",
    "    print(i)\n",
    "sns.boxplot(x=\"TP_DEPENDENCIA_ADM_ESC\", y=\"NU_NOTA_LC\", data=dfTO)"
   ]
  },
  {
   "cell_type": "markdown",
   "metadata": {
    "id": "gEgU78fUH1l_"
   },
   "source": [
    "#### Escolaridade da Mãe"
   ]
  },
  {
   "cell_type": "code",
   "execution_count": 150,
   "metadata": {
    "colab": {
     "base_uri": "https://localhost:8080/",
     "height": 588
    },
    "executionInfo": {
     "elapsed": 614,
     "status": "ok",
     "timestamp": 1743872214432,
     "user": {
      "displayName": "Caio Bruno",
      "userId": "16606825078430534520"
     },
     "user_tz": 180
    },
    "id": "d4Gwzq0mI3gY",
    "outputId": "792da5c7-c88a-4b86-877e-dac7c3de6453"
   },
   "outputs": [
    {
     "name": "stdout",
     "output_type": "stream",
     "text": [
      "A = Nunca estudou\n",
      "B = Não completou a 4ª série/5º ano do Ensino Fundamental\n",
      "C = Completou a 4ª série/5º ano, mas não completou a 8ª série/9º ano do Ensino Fundamental\n",
      "D = Completou a 8ª série/9º ano do Ensino Fundamental, mas não completou o Ensino Médio\n",
      "E = Completou o Ensino Médio, mas não completou a Faculdade\n",
      "F = Completou a Faculdade, mas não completou a Pós-graduação\n",
      "G = Completou a Pós-graduação\n",
      "H = Não sei\n"
     ]
    },
    {
     "data": {
      "image/png": "[encoded data removed]",
      "text/plain": [
       "<Figure size 640x480 with 1 Axes>"
      ]
     },
     "metadata": {},
     "output_type": "display_data"
    }
   ],
   "source": [
    "sns.boxplot(x=\"Q002\", y=\"NU_NOTA_LC\", data=dfTO, order=dfTO['Q002'].cat.categories)\n",
    "\n",
    "for i in escolaridades:\n",
    "    print(i)"
   ]
  },
  {
   "cell_type": "markdown",
   "metadata": {
    "id": "IVn7qhdJH1sx"
   },
   "source": [
    "#### Renda Familiar"
   ]
  },
  {
   "cell_type": "code",
   "execution_count": 151,
   "metadata": {
    "colab": {
     "base_uri": "https://localhost:8080/",
     "height": 744
    },
    "executionInfo": {
     "elapsed": 522,
     "status": "ok",
     "timestamp": 1743872214955,
     "user": {
      "displayName": "Caio Bruno",
      "userId": "16606825078430534520"
     },
     "user_tz": 180
    },
    "id": "traPT64sI30o",
    "outputId": "1ade75d3-e134-41f8-a61f-8cd5e01677b3"
   },
   "outputs": [
    {
     "name": "stdout",
     "output_type": "stream",
     "text": [
      "A = Nenhuma Renda\n",
      "B = Até R$ 1.320,00\n",
      "C = De R$ 1.320,01 até R$ 1.980,00\n",
      "D = De R$ 1.980,01 até R$ 2.640,00\n",
      "E = De R$ 2.640,01 até R$ 3.300,00\n",
      "F = De R$ 3.300,01 até R$ 3.960,00\n",
      "G = De R$ 3.960,01 até R$ 5.280,00\n",
      "H = De R$ 5.280,01 até R$ 6.600,00\n",
      "I = De R$ 6.600,01 até R$ 7.920,00\n",
      "J = De R$ 7.920,01 até R$ 9240,00\n",
      "K = De R$ 9.240,01 até R$ 10.560,00\n",
      "L = De R$ 10.560,01 até R$ 11.880,00\n",
      "M = De R$ 11.880,01 até R$ 13.200,00\n",
      "N = De R$ 13.200,01 até R$ 15.840,00\n",
      "O = De R$ 15.840,01 até R$19.800,00\n",
      "P = De R$ 19.800,01 até R$ 26.400,00\n",
      "Q = Acima de R$ 26.400,00\n"
     ]
    },
    {
     "data": {
      "image/png": "[encoded data removed]",
      "text/plain": [
       "<Figure size 640x480 with 1 Axes>"
      ]
     },
     "metadata": {},
     "output_type": "display_data"
    }
   ],
   "source": [
    "sns.boxplot(x=\"Q006\", y=\"NU_NOTA_LC\", data=dfTO, order=dfTO['Q006'].cat.categories)\n",
    "\n",
    "for i in rendas:\n",
    "    print(i)"
   ]
  },
  {
   "cell_type": "markdown",
   "metadata": {
    "id": "0d0-pF6pIHlR"
   },
   "source": [
    "### Unaí"
   ]
  },
  {
   "cell_type": "markdown",
   "metadata": {
    "id": "5v4hAHxMIYPL"
   },
   "source": [
    "#### Cor"
   ]
  },
  {
   "cell_type": "code",
   "execution_count": 152,
   "metadata": {
    "colab": {
     "base_uri": "https://localhost:8080/",
     "height": 553
    },
    "executionInfo": {
     "elapsed": 327,
     "status": "ok",
     "timestamp": 1743872215292,
     "user": {
      "displayName": "Caio Bruno",
      "userId": "16606825078430534520"
     },
     "user_tz": 180
    },
    "id": "QWpW2PEdI4wx",
    "outputId": "ab52389c-2e82-44c0-ae34-5c889a9ea3fb"
   },
   "outputs": [
    {
     "name": "stdout",
     "output_type": "stream",
     "text": [
      "0 = Não declarado\n",
      "1 = Branca\n",
      "2 = Preta\n",
      "3 = Parda\n",
      "4 = Amarela\n",
      "5 = Indígena\n"
     ]
    },
    {
     "data": {
      "image/png": "[encoded data removed]",
      "text/plain": [
       "<Figure size 640x480 with 1 Axes>"
      ]
     },
     "metadata": {},
     "output_type": "display_data"
    }
   ],
   "source": [
    "sns.boxplot(x=\"TP_COR_RACA\", y=\"NU_NOTA_LC\", data=dfUnai)\n",
    "for i in cores:\n",
    "    print(i)"
   ]
  },
  {
   "cell_type": "markdown",
   "metadata": {
    "id": "Wi3gr3YJIY6U"
   },
   "source": [
    "#### Sexo"
   ]
  },
  {
   "cell_type": "code",
   "execution_count": 153,
   "metadata": {
    "colab": {
     "base_uri": "https://localhost:8080/",
     "height": 466
    },
    "executionInfo": {
     "elapsed": 242,
     "status": "ok",
     "timestamp": 1743872215536,
     "user": {
      "displayName": "Caio Bruno",
      "userId": "16606825078430534520"
     },
     "user_tz": 180
    },
    "id": "xSn2a_QhI5MY",
    "outputId": "27e72fc1-9166-4e78-d6ca-56fca16b06a9"
   },
   "outputs": [
    {
     "data": {
      "text/plain": [
       "<Axes: xlabel='TP_SEXO', ylabel='NU_NOTA_LC'>"
      ]
     },
     "execution_count": 153,
     "metadata": {},
     "output_type": "execute_result"
    },
    {
     "data": {
      "image/png": "[encoded data removed]",
      "text/plain": [
       "<Figure size 640x480 with 1 Axes>"
      ]
     },
     "metadata": {},
     "output_type": "display_data"
    }
   ],
   "source": [
    "sns.boxplot(x=\"TP_SEXO\", y=\"NU_NOTA_LC\", data=dfUnai)"
   ]
  },
  {
   "cell_type": "markdown",
   "metadata": {
    "id": "AVigvmO4IZF8"
   },
   "source": [
    "#### Dependência Administrativa"
   ]
  },
  {
   "cell_type": "code",
   "execution_count": 154,
   "metadata": {
    "colab": {
     "base_uri": "https://localhost:8080/",
     "height": 536
    },
    "executionInfo": {
     "elapsed": 266,
     "status": "ok",
     "timestamp": 1743872215821,
     "user": {
      "displayName": "Caio Bruno",
      "userId": "16606825078430534520"
     },
     "user_tz": 180
    },
    "id": "LOMcNqlbI5mT",
    "outputId": "73417729-a72b-41a5-dc4c-d5423797cdfa"
   },
   "outputs": [
    {
     "name": "stdout",
     "output_type": "stream",
     "text": [
      "1 = Federal\n",
      "2 = Estadual\n",
      "3 = Municipal\n",
      "4 = Privada\n"
     ]
    },
    {
     "data": {
      "text/plain": [
       "<Axes: xlabel='TP_DEPENDENCIA_ADM_ESC', ylabel='NU_NOTA_LC'>"
      ]
     },
     "execution_count": 154,
     "metadata": {},
     "output_type": "execute_result"
    },
    {
     "data": {
      "image/png": "[encoded data removed]",
      "text/plain": [
       "<Figure size 640x480 with 1 Axes>"
      ]
     },
     "metadata": {},
     "output_type": "display_data"
    }
   ],
   "source": [
    "for i in dependencias:\n",
    "    print(i)\n",
    "sns.boxplot(x=\"TP_DEPENDENCIA_ADM_ESC\", y=\"NU_NOTA_LC\", data=dfUnai)"
   ]
  },
  {
   "cell_type": "markdown",
   "metadata": {
    "id": "-uDNjcgHIZP0"
   },
   "source": [
    "#### Escolaridade da Mãe"
   ]
  },
  {
   "cell_type": "code",
   "execution_count": 155,
   "metadata": {
    "colab": {
     "base_uri": "https://localhost:8080/",
     "height": 588
    },
    "executionInfo": {
     "elapsed": 303,
     "status": "ok",
     "timestamp": 1743872216128,
     "user": {
      "displayName": "Caio Bruno",
      "userId": "16606825078430534520"
     },
     "user_tz": 180
    },
    "id": "_z9mJp4mI575",
    "outputId": "00920ad1-16dc-4882-8b15-82ba9c1ac42a"
   },
   "outputs": [
    {
     "name": "stdout",
     "output_type": "stream",
     "text": [
      "A = Nunca estudou\n",
      "B = Não completou a 4ª série/5º ano do Ensino Fundamental\n",
      "C = Completou a 4ª série/5º ano, mas não completou a 8ª série/9º ano do Ensino Fundamental\n",
      "D = Completou a 8ª série/9º ano do Ensino Fundamental, mas não completou o Ensino Médio\n",
      "E = Completou o Ensino Médio, mas não completou a Faculdade\n",
      "F = Completou a Faculdade, mas não completou a Pós-graduação\n",
      "G = Completou a Pós-graduação\n",
      "H = Não sei\n"
     ]
    },
    {
     "data": {
      "image/png": "[encoded data removed]",
      "text/plain": [
       "<Figure size 640x480 with 1 Axes>"
      ]
     },
     "metadata": {},
     "output_type": "display_data"
    }
   ],
   "source": [
    "sns.boxplot(x=\"Q002\", y=\"NU_NOTA_LC\", data=dfUnai, order=dfUnai['Q002'].cat.categories)\n",
    "\n",
    "for i in escolaridades:\n",
    "    print(i)"
   ]
  },
  {
   "cell_type": "markdown",
   "metadata": {
    "id": "zt_AqS9pIZY7"
   },
   "source": [
    "#### Renda Familiar"
   ]
  },
  {
   "cell_type": "code",
   "execution_count": 156,
   "metadata": {
    "colab": {
     "base_uri": "https://localhost:8080/",
     "height": 744
    },
    "executionInfo": {
     "elapsed": 271,
     "status": "ok",
     "timestamp": 1743872216398,
     "user": {
      "displayName": "Caio Bruno",
      "userId": "16606825078430534520"
     },
     "user_tz": 180
    },
    "id": "W0MIupVrI6VU",
    "outputId": "78c37449-8c0d-43a1-dc47-fa11e0433b16"
   },
   "outputs": [
    {
     "name": "stdout",
     "output_type": "stream",
     "text": [
      "A = Nenhuma Renda\n",
      "B = Até R$ 1.320,00\n",
      "C = De R$ 1.320,01 até R$ 1.980,00\n",
      "D = De R$ 1.980,01 até R$ 2.640,00\n",
      "E = De R$ 2.640,01 até R$ 3.300,00\n",
      "F = De R$ 3.300,01 até R$ 3.960,00\n",
      "G = De R$ 3.960,01 até R$ 5.280,00\n",
      "H = De R$ 5.280,01 até R$ 6.600,00\n",
      "I = De R$ 6.600,01 até R$ 7.920,00\n",
      "J = De R$ 7.920,01 até R$ 9240,00\n",
      "K = De R$ 9.240,01 até R$ 10.560,00\n",
      "L = De R$ 10.560,01 até R$ 11.880,00\n",
      "M = De R$ 11.880,01 até R$ 13.200,00\n",
      "N = De R$ 13.200,01 até R$ 15.840,00\n",
      "O = De R$ 15.840,01 até R$19.800,00\n",
      "P = De R$ 19.800,01 até R$ 26.400,00\n",
      "Q = Acima de R$ 26.400,00\n"
     ]
    },
    {
     "data": {
      "image/png": "[encoded data removed]",
      "text/plain": [
       "<Figure size 640x480 with 1 Axes>"
      ]
     },
     "metadata": {},
     "output_type": "display_data"
    }
   ],
   "source": [
    "sns.boxplot(x=\"Q006\", y=\"NU_NOTA_LC\", data=dfUnai, order=dfUnai['Q006'].cat.categories)\n",
    "\n",
    "for i in rendas:\n",
    "    print(i)"
   ]
  },
  {
   "cell_type": "markdown",
   "metadata": {
    "id": "AMH_18YYUcyL"
   },
   "source": [
    "# Análise para o Banner"
   ]
  },
  {
   "cell_type": "code",
   "execution_count": 157,
   "metadata": {
    "colab": {
     "base_uri": "https://localhost:8080/",
     "height": 683
    },
    "executionInfo": {
     "elapsed": 586,
     "status": "ok",
     "timestamp": 1743872216982,
     "user": {
      "displayName": "Caio Bruno",
      "userId": "16606825078430534520"
     },
     "user_tz": 180
    },
    "id": "3NMc02TxZWxG",
    "outputId": "80558e9e-c8a5-4712-fd99-1c8fe2496536"
   },
   "outputs": [
    {
     "data": {
      "image/png": "[encoded data removed]",
      "text/plain": [
       "<Figure size 640x480 with 1 Axes>"
      ]
     },
     "metadata": {},
     "output_type": "display_data"
    },
    {
     "name": "stdout",
     "output_type": "stream",
     "text": [
      "A = Nunca estudou\n",
      "B = Não completou a 4ª série/5º ano do Ensino Fundamental\n",
      "C = Completou a 4ª série/5º ano, mas não completou a 8ª série/9º ano do Ensino Fundamental\n",
      "D = Completou a 8ª série/9º ano do Ensino Fundamental, mas não completou o Ensino Médio\n",
      "E = Completou o Ensino Médio, mas não completou a Faculdade\n",
      "F = Completou a Faculdade, mas não completou a Pós-graduação\n",
      "G = Completou a Pós-graduação\n",
      "H = Não sei\n"
     ]
    }
   ],
   "source": [
    "filtro_NaoSei = dfMG[\"Q002\"] == \"H\"\n",
    "dfSemNS = dfMG.drop(index=dfMG[filtro_NaoSei].index)\n",
    "\n",
    "escolaridadesMae = [\"Nunca estudou\",\n",
    "\"EF1 incompleto\",\n",
    "\"EF1 completo\",\n",
    "\"EF2 completo\",\n",
    "\"Ensino médio\",\n",
    "\"Ensino Superior\",\n",
    "\"Pós-Graduação\",\"H\"]\n",
    "\n",
    "def convEscString(letra):\n",
    "    letras = [\"A\",\"B\",\"C\",\"D\",\"E\",\"F\",\"G\",\"H\"]\n",
    "    indice = letras.index(letra)\n",
    "    return escolaridadesMae[indice]\n",
    "\n",
    "dfSemNS[\"Q002\"] = dfSemNS[\"Q002\"].apply(convEscString)\n",
    "\n",
    "sns.boxplot(x=\"Q002\", y=\"NU_NOTA_LC\",color=\"#D73421\", data=dfSemNS, order=dfSemNS['Q002'].cat.categories[:-1], fliersize=4)\n",
    "plt.xticks(rotation=90)\n",
    "plt.xlabel('Escolaridade da Mãe')\n",
    "plt.ylabel('Nota em LCT')\n",
    "plt.show()\n",
    "\n",
    "for i in escolaridades:\n",
    "    print(i)"
   ]
  },
  {
   "cell_type": "code",
   "execution_count": 158,
   "metadata": {
    "executionInfo": {
     "elapsed": 6,
     "status": "ok",
     "timestamp": 1743872216985,
     "user": {
      "displayName": "Caio Bruno",
      "userId": "16606825078430534520"
     },
     "user_tz": 180
    },
    "id": "ktptCanl0LRr"
   },
   "outputs": [],
   "source": [
    "rendas = [\"Nenhuma Renda\",\n",
    "\"Menos de 1320,00\",\n",
    "\"1.320,01 a 1.980,00\",\n",
    "\"1.980,01 a 2.640,00\",\n",
    "\"2.640,01 a 3.300,00\",\n",
    "\"3.300,01 a 3.960,00\",\n",
    "\"3.960,01 a 5.280,00\",\n",
    "\"5.280,01 a 6.600,00\",\n",
    "\"6.600,01 a 7.920,00\",\n",
    "\"7.920,01 a 9240,00\",\n",
    "\"9.240,01 a 10.560,00\",\n",
    "\"10.560,01 a 11.880,00\",\n",
    "\"11.880,01 a 13.200,00\",\n",
    "\"13.200,01 a 15.840,00\",\n",
    "\"15.840,01 a 9.800,00\",\n",
    "\"19.800,01 a 26.400,00\",\n",
    "\"Mais de 26.400,00\"]\n",
    "\n",
    "def convEscString(letra):\n",
    "    letras = [\"A\",\"B\",\"C\",\"D\",\"E\",\"F\",\"G\",\"H\",\"I\",\"J\",\"K\",\"L\",\"M\",\"N\",\"O\",\"P\",\"Q\"]\n",
    "    indice = letras.index(letra)\n",
    "    return rendas[indice]\n",
    "\n",
    "dfMG[\"Q006\"] = dfMG[\"Q006\"].apply(convEscString)"
   ]
  },
  {
   "cell_type": "code",
   "execution_count": 159,
   "metadata": {
    "colab": {
     "base_uri": "https://localhost:8080/",
     "height": 889
    },
    "executionInfo": {
     "elapsed": 410,
     "status": "ok",
     "timestamp": 1743872217401,
     "user": {
      "displayName": "Caio Bruno",
      "userId": "16606825078430534520"
     },
     "user_tz": 180
    },
    "id": "sz2buZgm0PYA",
    "outputId": "c166dbb7-71bf-4eb6-b0d7-a6719054e214"
   },
   "outputs": [
    {
     "data": {
      "image/png": "[encoded data removed]",
      "text/plain": [
       "<Figure size 640x480 with 1 Axes>"
      ]
     },
     "metadata": {},
     "output_type": "display_data"
    },
    {
     "name": "stdout",
     "output_type": "stream",
     "text": [
      "Nenhuma Renda\n",
      "Menos de 1320,00\n",
      "1.320,01 a 1.980,00\n",
      "1.980,01 a 2.640,00\n",
      "2.640,01 a 3.300,00\n",
      "3.300,01 a 3.960,00\n",
      "3.960,01 a 5.280,00\n",
      "5.280,01 a 6.600,00\n",
      "6.600,01 a 7.920,00\n",
      "7.920,01 a 9240,00\n",
      "9.240,01 a 10.560,00\n",
      "10.560,01 a 11.880,00\n",
      "11.880,01 a 13.200,00\n",
      "13.200,01 a 15.840,00\n",
      "15.840,01 a 9.800,00\n",
      "19.800,01 a 26.400,00\n",
      "Mais de 26.400,00\n"
     ]
    }
   ],
   "source": [
    "sns.boxplot(x=\"Q006\", y=\"NU_NOTA_LC\",color=\"#06886C\", data=dfMG, order=dfMG['Q006'].cat.categories,  fliersize=4)\n",
    "\n",
    "plt.xticks(rotation=90)\n",
    "plt.xlabel('Renda Familiar')\n",
    "plt.ylabel('Nota em LCT')\n",
    "plt.show()\n",
    "\n",
    "for i in rendas:\n",
    "    print(i)"
   ]
  },
  {
   "cell_type": "code",
   "execution_count": 160,
   "metadata": {
    "colab": {
     "base_uri": "https://localhost:8080/",
     "height": 554
    },
    "executionInfo": {
     "elapsed": 674,
     "status": "ok",
     "timestamp": 1743872218077,
     "user": {
      "displayName": "Caio Bruno",
      "userId": "16606825078430534520"
     },
     "user_tz": 180
    },
    "id": "aU0ropO4ipHz",
    "outputId": "11bc9cfb-d421-4db1-b009-b275c5aa0e3f"
   },
   "outputs": [
    {
     "data": {
      "text/plain": [
       "Text(0, 0.5, 'Nota em LCT')"
      ]
     },
     "execution_count": 160,
     "metadata": {},
     "output_type": "execute_result"
    },
    {
     "data": {
      "image/png": "[encoded data removed]",
      "text/plain": [
       "<Figure size 640x480 with 1 Axes>"
      ]
     },
     "metadata": {},
     "output_type": "display_data"
    }
   ],
   "source": [
    "cores = ['Não declarado', 'Branca', 'Preta', 'Parda', 'Amarela', 'Indígena', 'Não dispõe']\n",
    "\n",
    "def converterCor(num):\n",
    "    return cores[num]\n",
    "\n",
    "dfMG_CorConv = dfMG.copy()\n",
    "\n",
    "dfMG_CorConv['TP_COR_RACA'] = dfMG['TP_COR_RACA'].map(converterCor)\n",
    "sns.boxplot(x=\"TP_COR_RACA\", y=\"NU_NOTA_LC\",color=\"#FFA51F\", data=dfMG_CorConv, fliersize=4)\n",
    "\n",
    "plt.xticks(rotation=90)\n",
    "plt.xlabel('Cor/Raça')\n",
    "plt.ylabel('Nota em LCT')"
   ]
  },
  {
   "cell_type": "code",
   "execution_count": 161,
   "metadata": {
    "colab": {
     "base_uri": "https://localhost:8080/",
     "height": 466
    },
    "executionInfo": {
     "elapsed": 594,
     "status": "ok",
     "timestamp": 1743872218673,
     "user": {
      "displayName": "Caio Bruno",
      "userId": "16606825078430534520"
     },
     "user_tz": 180
    },
    "id": "3ReLE5nRj85W",
    "outputId": "ac157754-06a0-4afd-b2e5-76437ce2c2e2"
   },
   "outputs": [
    {
     "data": {
      "text/plain": [
       "Text(0, 0.5, 'Nota em LCT')"
      ]
     },
     "execution_count": 161,
     "metadata": {},
     "output_type": "execute_result"
    },
    {
     "data": {
      "image/png": "[encoded data removed]",
      "text/plain": [
       "<Figure size 640x480 with 1 Axes>"
      ]
     },
     "metadata": {},
     "output_type": "display_data"
    }
   ],
   "source": [
    "sns.boxplot(x=\"TP_SEXO\", y=\"NU_NOTA_LC\",color=\"#93374E\", data=dfMG, fliersize=4)\n",
    "plt.xlabel('Sexo')\n",
    "plt.ylabel('Nota em LCT')"
   ]
  },
  {
   "cell_type": "code",
   "execution_count": 162,
   "metadata": {
    "colab": {
     "base_uri": "https://localhost:8080/",
     "height": 143
    },
    "executionInfo": {
     "elapsed": 311,
     "status": "ok",
     "timestamp": 1743872218985,
     "user": {
      "displayName": "Caio Bruno",
      "userId": "16606825078430534520"
     },
     "user_tz": 180
    },
    "id": "6FopxVPeUjUp",
    "outputId": "b7aebb42-73d0-4223-9764-ae7b760d92cc"
   },
   "outputs": [
    {
     "data": {
      "text/html": [
       "<div>\n",
       "<style scoped>\n",
       "    .dataframe tbody tr th:only-of-type {\n",
       "        vertical-align: middle;\n",
       "    }\n",
       "\n",
       "    .dataframe tbody tr th {\n",
       "        vertical-align: top;\n",
       "    }\n",
       "\n",
       "    .dataframe thead th {\n",
       "        text-align: right;\n",
       "    }\n",
       "</style>\n",
       "<table border=\"1\" class=\"dataframe\">\n",
       "  <thead>\n",
       "    <tr style=\"text-align: right;\">\n",
       "      <th></th>\n",
       "      <th>count</th>\n",
       "      <th>mean</th>\n",
       "      <th>std</th>\n",
       "      <th>min</th>\n",
       "      <th>25%</th>\n",
       "      <th>50%</th>\n",
       "      <th>75%</th>\n",
       "      <th>max</th>\n",
       "    </tr>\n",
       "    <tr>\n",
       "      <th>TP_SEXO</th>\n",
       "      <th></th>\n",
       "      <th></th>\n",
       "      <th></th>\n",
       "      <th></th>\n",
       "      <th></th>\n",
       "      <th></th>\n",
       "      <th></th>\n",
       "      <th></th>\n",
       "    </tr>\n",
       "  </thead>\n",
       "  <tbody>\n",
       "    <tr>\n",
       "      <th>F</th>\n",
       "      <td>53887.0</td>\n",
       "      <td>525.394925</td>\n",
       "      <td>68.366321</td>\n",
       "      <td>287.2</td>\n",
       "      <td>482.1</td>\n",
       "      <td>528.4</td>\n",
       "      <td>572.3</td>\n",
       "      <td>758.6</td>\n",
       "    </tr>\n",
       "    <tr>\n",
       "      <th>M</th>\n",
       "      <td>34444.0</td>\n",
       "      <td>530.693340</td>\n",
       "      <td>71.704032</td>\n",
       "      <td>289.2</td>\n",
       "      <td>487.1</td>\n",
       "      <td>536.7</td>\n",
       "      <td>580.7</td>\n",
       "      <td>768.9</td>\n",
       "    </tr>\n",
       "  </tbody>\n",
       "</table>\n",
       "</div>"
      ],
      "text/plain": [
       "           count        mean        std    min    25%    50%    75%    max\n",
       "TP_SEXO                                                                   \n",
       "F        53887.0  525.394925  68.366321  287.2  482.1  528.4  572.3  758.6\n",
       "M        34444.0  530.693340  71.704032  289.2  487.1  536.7  580.7  768.9"
      ]
     },
     "execution_count": 162,
     "metadata": {},
     "output_type": "execute_result"
    }
   ],
   "source": [
    "grupoSexo = dfMG.groupby(\"TP_SEXO\")\n",
    "grupoSexo['NU_NOTA_LC'].describe()"
   ]
  },
  {
   "cell_type": "code",
   "execution_count": 163,
   "metadata": {
    "colab": {
     "base_uri": "https://localhost:8080/",
     "height": 269
    },
    "executionInfo": {
     "elapsed": 11,
     "status": "ok",
     "timestamp": 1743872218998,
     "user": {
      "displayName": "Caio Bruno",
      "userId": "16606825078430534520"
     },
     "user_tz": 180
    },
    "id": "nyaYsDmMUlaN",
    "outputId": "cde6f618-a644-40a8-da44-22456e205574"
   },
   "outputs": [
    {
     "data": {
      "text/html": [
       "<div>\n",
       "<style scoped>\n",
       "    .dataframe tbody tr th:only-of-type {\n",
       "        vertical-align: middle;\n",
       "    }\n",
       "\n",
       "    .dataframe tbody tr th {\n",
       "        vertical-align: top;\n",
       "    }\n",
       "\n",
       "    .dataframe thead th {\n",
       "        text-align: right;\n",
       "    }\n",
       "</style>\n",
       "<table border=\"1\" class=\"dataframe\">\n",
       "  <thead>\n",
       "    <tr style=\"text-align: right;\">\n",
       "      <th></th>\n",
       "      <th>count</th>\n",
       "      <th>mean</th>\n",
       "      <th>std</th>\n",
       "      <th>min</th>\n",
       "      <th>25%</th>\n",
       "      <th>50%</th>\n",
       "      <th>75%</th>\n",
       "      <th>max</th>\n",
       "    </tr>\n",
       "    <tr>\n",
       "      <th>TP_COR_RACA</th>\n",
       "      <th></th>\n",
       "      <th></th>\n",
       "      <th></th>\n",
       "      <th></th>\n",
       "      <th></th>\n",
       "      <th></th>\n",
       "      <th></th>\n",
       "      <th></th>\n",
       "    </tr>\n",
       "  </thead>\n",
       "  <tbody>\n",
       "    <tr>\n",
       "      <th>Amarela</th>\n",
       "      <td>884.0</td>\n",
       "      <td>508.487783</td>\n",
       "      <td>67.037600</td>\n",
       "      <td>291.4</td>\n",
       "      <td>467.50</td>\n",
       "      <td>513.65</td>\n",
       "      <td>555.550</td>\n",
       "      <td>690.1</td>\n",
       "    </tr>\n",
       "    <tr>\n",
       "      <th>Branca</th>\n",
       "      <td>43028.0</td>\n",
       "      <td>542.167935</td>\n",
       "      <td>68.336741</td>\n",
       "      <td>287.2</td>\n",
       "      <td>500.00</td>\n",
       "      <td>546.90</td>\n",
       "      <td>589.700</td>\n",
       "      <td>758.6</td>\n",
       "    </tr>\n",
       "    <tr>\n",
       "      <th>Indígena</th>\n",
       "      <td>194.0</td>\n",
       "      <td>480.112371</td>\n",
       "      <td>62.269942</td>\n",
       "      <td>316.9</td>\n",
       "      <td>431.15</td>\n",
       "      <td>484.55</td>\n",
       "      <td>523.525</td>\n",
       "      <td>650.4</td>\n",
       "    </tr>\n",
       "    <tr>\n",
       "      <th>Não declarado</th>\n",
       "      <td>802.0</td>\n",
       "      <td>535.518454</td>\n",
       "      <td>74.428925</td>\n",
       "      <td>292.7</td>\n",
       "      <td>490.70</td>\n",
       "      <td>541.00</td>\n",
       "      <td>586.075</td>\n",
       "      <td>733.3</td>\n",
       "    </tr>\n",
       "    <tr>\n",
       "      <th>Parda</th>\n",
       "      <td>33244.0</td>\n",
       "      <td>515.065615</td>\n",
       "      <td>68.206120</td>\n",
       "      <td>287.2</td>\n",
       "      <td>472.60</td>\n",
       "      <td>519.10</td>\n",
       "      <td>562.000</td>\n",
       "      <td>768.9</td>\n",
       "    </tr>\n",
       "    <tr>\n",
       "      <th>Preta</th>\n",
       "      <td>10179.0</td>\n",
       "      <td>507.690706</td>\n",
       "      <td>66.938223</td>\n",
       "      <td>288.6</td>\n",
       "      <td>465.15</td>\n",
       "      <td>512.90</td>\n",
       "      <td>555.300</td>\n",
       "      <td>698.3</td>\n",
       "    </tr>\n",
       "  </tbody>\n",
       "</table>\n",
       "</div>"
      ],
      "text/plain": [
       "                 count        mean        std    min     25%     50%      75%  \\\n",
       "TP_COR_RACA                                                                     \n",
       "Amarela          884.0  508.487783  67.037600  291.4  467.50  513.65  555.550   \n",
       "Branca         43028.0  542.167935  68.336741  287.2  500.00  546.90  589.700   \n",
       "Indígena         194.0  480.112371  62.269942  316.9  431.15  484.55  523.525   \n",
       "Não declarado    802.0  535.518454  74.428925  292.7  490.70  541.00  586.075   \n",
       "Parda          33244.0  515.065615  68.206120  287.2  472.60  519.10  562.000   \n",
       "Preta          10179.0  507.690706  66.938223  288.6  465.15  512.90  555.300   \n",
       "\n",
       "                 max  \n",
       "TP_COR_RACA           \n",
       "Amarela        690.1  \n",
       "Branca         758.6  \n",
       "Indígena       650.4  \n",
       "Não declarado  733.3  \n",
       "Parda          768.9  \n",
       "Preta          698.3  "
      ]
     },
     "execution_count": 163,
     "metadata": {},
     "output_type": "execute_result"
    }
   ],
   "source": [
    "grupoCor = dfMG_CorConv.groupby(\"TP_COR_RACA\")\n",
    "grupoCor['NU_NOTA_LC'].describe()"
   ]
  },
  {
   "cell_type": "code",
   "execution_count": 164,
   "metadata": {
    "colab": {
     "base_uri": "https://localhost:8080/",
     "height": 206
    },
    "executionInfo": {
     "elapsed": 19,
     "status": "ok",
     "timestamp": 1743872219020,
     "user": {
      "displayName": "Caio Bruno",
      "userId": "16606825078430534520"
     },
     "user_tz": 180
    },
    "id": "aj8Rd1E9V4iA",
    "outputId": "58286141-2b1b-4f31-dd06-2702095e6488"
   },
   "outputs": [
    {
     "data": {
      "text/html": [
       "<div>\n",
       "<style scoped>\n",
       "    .dataframe tbody tr th:only-of-type {\n",
       "        vertical-align: middle;\n",
       "    }\n",
       "\n",
       "    .dataframe tbody tr th {\n",
       "        vertical-align: top;\n",
       "    }\n",
       "\n",
       "    .dataframe thead th {\n",
       "        text-align: right;\n",
       "    }\n",
       "</style>\n",
       "<table border=\"1\" class=\"dataframe\">\n",
       "  <thead>\n",
       "    <tr style=\"text-align: right;\">\n",
       "      <th></th>\n",
       "      <th>count</th>\n",
       "      <th>mean</th>\n",
       "      <th>std</th>\n",
       "      <th>min</th>\n",
       "      <th>25%</th>\n",
       "      <th>50%</th>\n",
       "      <th>75%</th>\n",
       "      <th>max</th>\n",
       "    </tr>\n",
       "    <tr>\n",
       "      <th>TP_DEPENDENCIA_ADM_ESC</th>\n",
       "      <th></th>\n",
       "      <th></th>\n",
       "      <th></th>\n",
       "      <th></th>\n",
       "      <th></th>\n",
       "      <th></th>\n",
       "      <th></th>\n",
       "      <th></th>\n",
       "    </tr>\n",
       "  </thead>\n",
       "  <tbody>\n",
       "    <tr>\n",
       "      <th>1.0</th>\n",
       "      <td>5785.0</td>\n",
       "      <td>562.560000</td>\n",
       "      <td>61.889535</td>\n",
       "      <td>291.4</td>\n",
       "      <td>527.9</td>\n",
       "      <td>568.6</td>\n",
       "      <td>604.5</td>\n",
       "      <td>750.0</td>\n",
       "    </tr>\n",
       "    <tr>\n",
       "      <th>2.0</th>\n",
       "      <td>29934.0</td>\n",
       "      <td>513.190339</td>\n",
       "      <td>65.955808</td>\n",
       "      <td>287.2</td>\n",
       "      <td>472.9</td>\n",
       "      <td>518.5</td>\n",
       "      <td>559.7</td>\n",
       "      <td>736.6</td>\n",
       "    </tr>\n",
       "    <tr>\n",
       "      <th>3.0</th>\n",
       "      <td>481.0</td>\n",
       "      <td>534.907484</td>\n",
       "      <td>64.001734</td>\n",
       "      <td>288.6</td>\n",
       "      <td>500.4</td>\n",
       "      <td>540.4</td>\n",
       "      <td>578.0</td>\n",
       "      <td>694.4</td>\n",
       "    </tr>\n",
       "    <tr>\n",
       "      <th>4.0</th>\n",
       "      <td>18520.0</td>\n",
       "      <td>572.668699</td>\n",
       "      <td>62.134415</td>\n",
       "      <td>287.2</td>\n",
       "      <td>536.7</td>\n",
       "      <td>578.5</td>\n",
       "      <td>615.0</td>\n",
       "      <td>768.9</td>\n",
       "    </tr>\n",
       "  </tbody>\n",
       "</table>\n",
       "</div>"
      ],
      "text/plain": [
       "                          count        mean        std    min    25%    50%  \\\n",
       "TP_DEPENDENCIA_ADM_ESC                                                        \n",
       "1.0                      5785.0  562.560000  61.889535  291.4  527.9  568.6   \n",
       "2.0                     29934.0  513.190339  65.955808  287.2  472.9  518.5   \n",
       "3.0                       481.0  534.907484  64.001734  288.6  500.4  540.4   \n",
       "4.0                     18520.0  572.668699  62.134415  287.2  536.7  578.5   \n",
       "\n",
       "                          75%    max  \n",
       "TP_DEPENDENCIA_ADM_ESC                \n",
       "1.0                     604.5  750.0  \n",
       "2.0                     559.7  736.6  \n",
       "3.0                     578.0  694.4  \n",
       "4.0                     615.0  768.9  "
      ]
     },
     "execution_count": 164,
     "metadata": {},
     "output_type": "execute_result"
    }
   ],
   "source": [
    "grupoDepAdm = dfMG.groupby(\"TP_DEPENDENCIA_ADM_ESC\")\n",
    "grupoDepAdm['NU_NOTA_LC'].describe()"
   ]
  }
 ],
 "metadata": {
  "colab": {
   "provenance": []
  },
  "kernelspec": {
   "display_name": "Python 3",
   "language": "python",
   "name": "python3"
  },
  "language_info": {
   "codemirror_mode": {
    "name": "ipython",
    "version": 3
   },
   "file_extension": ".py",
   "mimetype": "text/x-python",
   "name": "python",
   "nbconvert_exporter": "python",
   "pygments_lexer": "ipython3",
   "version": "3.12.3"
  }
 },
 "nbformat": 4,
 "nbformat_minor": 0
}
